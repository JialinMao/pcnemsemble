{
 "cells": [
  {
   "cell_type": "code",
   "execution_count": 1,
   "metadata": {
    "collapsed": false,
    "deletable": true,
    "editable": true
   },
   "outputs": [
    {
     "name": "stdout",
     "output_type": "stream",
     "text": [
      "Populating the interactive namespace from numpy and matplotlib\n"
     ]
    }
   ],
   "source": [
    "%pylab inline\n",
    "import numpy as np\n",
    "from distribution import *\n",
    "from proposal import *\n",
    "from sampler import Sampler"
   ]
  },
  {
   "cell_type": "markdown",
   "metadata": {},
   "source": [
    "### The acceptance seems too high. Expect potential bugs."
   ]
  },
  {
   "cell_type": "markdown",
   "metadata": {},
   "source": [
    "### Example of sampling from a multivariate gaussian"
   ]
  },
  {
   "cell_type": "code",
   "execution_count": 3,
   "metadata": {
    "collapsed": false,
    "deletable": true,
    "editable": true
   },
   "outputs": [],
   "source": [
    "dim = 5\n",
    "nwalkers = 100\n",
    "niters = 1000"
   ]
  },
  {
   "cell_type": "code",
   "execution_count": 4,
   "metadata": {
    "collapsed": false
   },
   "outputs": [],
   "source": [
    "mu = np.random.randn(dim)\n",
    "\n",
    "cov = 0.5 - np.random.rand(dim ** 2).reshape((dim, dim))\n",
    "cov = np.triu(cov)\n",
    "cov += cov.T - np.diag(cov.diagonal())\n",
    "cov = np.dot(cov,cov)\n",
    "\n",
    "t_dist = MultivariateGaussian(cov=cov, mu=mu, dim=dim)\n",
    "proposal = PCNWalkMove(s=3, beta=0.99)\n",
    "sampler = Sampler(dim=dim, t_dist=t_dist, proposal=proposal, nwalkers=nwalkers)"
   ]
  },
  {
   "cell_type": "code",
   "execution_count": 5,
   "metadata": {
    "collapsed": false
   },
   "outputs": [
    {
     "name": "stderr",
     "output_type": "stream",
     "text": [
      "proposal/walk.py:57: RuntimeWarning: covariance is not positive-semidefinite.\n",
      "  + beta * rand.multivariate_normal(np.zeros_like(walkers_to_move[i]), cov)\n"
     ]
    }
   ],
   "source": [
    "hist = sampler.run_mcmc(niters, p0=np.random.randn(dim*nwalkers).reshape([nwalkers, dim]))"
   ]
  },
  {
   "cell_type": "code",
   "execution_count": 6,
   "metadata": {
    "collapsed": false
   },
   "outputs": [
    {
     "data": {
      "text/plain": [
       "(1000, 5)"
      ]
     },
     "execution_count": 6,
     "metadata": {},
     "output_type": "execute_result"
    }
   ],
   "source": [
    "np.mean(hist.get('chain'), axis=0).shape"
   ]
  },
  {
   "cell_type": "code",
   "execution_count": 7,
   "metadata": {
    "collapsed": false,
    "deletable": true,
    "editable": true
   },
   "outputs": [
    {
     "data": {
      "image/png": "[encoded data removed]",
      "text/plain": [
       "<matplotlib.figure.Figure at 0x10bb90890>"
      ]
     },
     "metadata": {},
     "output_type": "display_data"
    }
   ],
   "source": [
    "hist.plot_scatter(dim=[[0, 1]])"
   ]
  },
  {
   "cell_type": "code",
   "execution_count": 8,
   "metadata": {
    "collapsed": false,
    "deletable": true,
    "editable": true
   },
   "outputs": [
    {
     "data": {
      "text/plain": [
       "32.710999999999999"
      ]
     },
     "execution_count": 8,
     "metadata": {},
     "output_type": "execute_result"
    }
   ],
   "source": [
    "hist.acceptance_rate"
   ]
  },
  {
   "cell_type": "code",
   "execution_count": 11,
   "metadata": {
    "collapsed": false
   },
   "outputs": [
    {
     "data": {
      "text/plain": [
       "array([[[  70.05629264],\n",
       "        [  35.21185667],\n",
       "        [ 222.15266216],\n",
       "        ..., \n",
       "        [   0.        ],\n",
       "        [-316.6728333 ],\n",
       "        [   0.        ]],\n",
       "\n",
       "       [[ -41.44331825],\n",
       "        [   0.        ],\n",
       "        [  32.59071174],\n",
       "        ..., \n",
       "        [   0.        ],\n",
       "        [   0.        ],\n",
       "        [   0.        ]],\n",
       "\n",
       "       [[ 380.54631176],\n",
       "        [   0.        ],\n",
       "        [   0.        ],\n",
       "        ..., \n",
       "        [ 218.5602524 ],\n",
       "        [   0.        ],\n",
       "        [ 213.20061312]],\n",
       "\n",
       "       ..., \n",
       "       [[ 117.56666512],\n",
       "        [   0.        ],\n",
       "        [ 249.68997358],\n",
       "        ..., \n",
       "        [ 324.82813029],\n",
       "        [   0.        ],\n",
       "        [  43.70230434]],\n",
       "\n",
       "       [[ 174.19797367],\n",
       "        [ 285.33077155],\n",
       "        [ 385.08834704],\n",
       "        ..., \n",
       "        [   0.        ],\n",
       "        [-232.45521696],\n",
       "        [ 248.63351556]],\n",
       "\n",
       "       [[   0.        ],\n",
       "        [ 143.80222661],\n",
       "        [-438.27937941],\n",
       "        ..., \n",
       "        [   0.        ],\n",
       "        [-161.41863176],\n",
       "        [   5.5934868 ]]])"
      ]
     },
     "execution_count": 11,
     "metadata": {},
     "output_type": "execute_result"
    }
   ],
   "source": [
    "hist.get('lnprob')"
   ]
  },
  {
   "cell_type": "markdown",
   "metadata": {
    "collapsed": true,
    "deletable": true,
    "editable": true
   },
   "source": [
    "### Example of sampling from Rosenbrock density  \n",
    "$f(x_1, x_2) \\propto \\exp(-[a(x_2 - x_1^2)^2 + (1-x_1)^2]\\ / \\ b)$"
   ]
  },
  {
   "cell_type": "code",
   "execution_count": 5,
   "metadata": {
    "collapsed": true
   },
   "outputs": [],
   "source": [
    "dim = 2\n",
    "nwalkers = 100\n",
    "niters = 1000000"
   ]
  },
  {
   "cell_type": "code",
   "execution_count": 6,
   "metadata": {
    "collapsed": true
   },
   "outputs": [],
   "source": [
    "t_dist = Rosenbrock()\n",
    "proposal = PCNWalkMove(s=3, beta=1.0)\n",
    "sampler = Sampler(dim=dim, t_dist=t_dist, proposal=proposal, nwalkers=nwalkers)"
   ]
  },
  {
   "cell_type": "code",
   "execution_count": null,
   "metadata": {
    "collapsed": false
   },
   "outputs": [],
   "source": [
    "hist = sampler.run_mcmc(niters, p0=np.random.randn(dim*nwalkers).reshape([nwalkers, dim]))"
   ]
  },
  {
   "cell_type": "code",
   "execution_count": null,
   "metadata": {
    "collapsed": false
   },
   "outputs": [],
   "source": [
    "hist.plot_scatter(dim=[[0, 1]])"
   ]
  },
  {
   "cell_type": "code",
   "execution_count": null,
   "metadata": {
    "collapsed": false
   },
   "outputs": [],
   "source": [
    "hist.acceptance_rate"
   ]
  },
  {
   "cell_type": "code",
   "execution_count": null,
   "metadata": {
    "collapsed": false
   },
   "outputs": [],
   "source": [
    "hist.auto_corr"
   ]
  },
  {
   "cell_type": "code",
   "execution_count": null,
   "metadata": {
    "collapsed": true
   },
   "outputs": [],
   "source": []
  }
 ],
 "metadata": {
  "kernelspec": {
   "display_name": "Python 2",
   "language": "python",
   "name": "python2"
  },
  "language_info": {
   "codemirror_mode": {
    "name": "ipython",
    "version": 2
   },
   "file_extension": ".py",
   "mimetype": "text/x-python",
   "name": "python",
   "nbconvert_exporter": "python",
   "pygments_lexer": "ipython2",
   "version": "2.7.12"
  }
 },
 "nbformat": 4,
 "nbformat_minor": 2
}
