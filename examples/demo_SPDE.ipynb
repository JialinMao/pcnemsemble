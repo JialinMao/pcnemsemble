{
 "cells": [
  {
   "cell_type": "code",
   "execution_count": 1,
   "metadata": {
    "collapsed": false
   },
   "outputs": [
    {
     "name": "stdout",
     "output_type": "stream",
     "text": [
      "Populating the interactive namespace from numpy and matplotlib\n"
     ]
    }
   ],
   "source": [
    "%pylab inline\n",
    "import sys; sys.path.insert(0, \"../\")\n",
    "import numpy as np\n",
    "from ensemble_sampler import *"
   ]
  },
  {
   "cell_type": "markdown",
   "metadata": {},
   "source": [
    "### Example of sampling from an invariant distribution of SPDE  \n",
    "Ref. Goodman & Weare, Ensemble Samplers With Affine Invariance  \n",
    "A problem with this example is that it's harder to visualize, but from the experiments it does seem that pCN has more consistent performance in high dimensions (judging from acceptance probability)."
   ]
  },
  {
   "cell_type": "code",
   "execution_count": 9,
   "metadata": {
    "collapsed": true
   },
   "outputs": [],
   "source": [
    "def plot_traj(x):\n",
    "    n, dim = x.shape\n",
    "    for i in range(n):\n",
    "        t = np.linspace(start=0.0, stop=1.0, num=dim)\n",
    "        plt.plot(t, x[i, :])"
   ]
  },
  {
   "cell_type": "code",
   "execution_count": 2,
   "metadata": {
    "collapsed": true
   },
   "outputs": [],
   "source": [
    "dim = 50\n",
    "nwalkers = 100\n",
    "niters = 1000\n",
    "t_dist = SPDE(N=dim)"
   ]
  },
  {
   "cell_type": "markdown",
   "metadata": {},
   "source": [
    "Not using ensemble, use isotropic gaussian proposal with scale=0.2"
   ]
  },
  {
   "cell_type": "code",
   "execution_count": 3,
   "metadata": {
    "collapsed": false
   },
   "outputs": [
    {
     "data": {
      "text/plain": [
       "0.050250000000000003"
      ]
     },
     "execution_count": 3,
     "metadata": {},
     "output_type": "execute_result"
    }
   ],
   "source": [
    "dim = 50\n",
    "proposal = PCNWalkMove(s=None, scale=0.2)\n",
    "sampler = Sampler(dim=dim, t_dist=t_dist, proposal=proposal, nwalkers=nwalkers)\n",
    "hist = sampler.run_mcmc(niters, p0=np.random.randn(dim*nwalkers).reshape([nwalkers, dim]))\n",
    "hist.acceptance_rate"
   ]
  },
  {
   "cell_type": "markdown",
   "metadata": {},
   "source": [
    "Use ensemble of size 3, scale=0.2."
   ]
  },
  {
   "cell_type": "code",
   "execution_count": 4,
   "metadata": {
    "collapsed": false
   },
   "outputs": [
    {
     "name": "stderr",
     "output_type": "stream",
     "text": [
      "../ensemble_sampler/proposal/walk.py:64: RuntimeWarning: covariance is not positive-semidefinite.\n",
      "  new_pos[i] = rand.multivariate_normal(walkers_to_move[i], scale**2 * cov)\n"
     ]
    },
    {
     "name": "stdout",
     "output_type": "stream",
     "text": [
      "acceptance_rate 0.44945\n"
     ]
    }
   ],
   "source": [
    "dim = 50\n",
    "proposal = PCNWalkMove(s=3, scale=0.2)\n",
    "sampler = Sampler(dim=dim, t_dist=t_dist, proposal=proposal, nwalkers=nwalkers)\n",
    "hist = sampler.run_mcmc(niters, p0=np.random.randn(dim*nwalkers).reshape([nwalkers, dim]))\n",
    "print \"acceptance_rate\", hist.acceptance_rate"
   ]
  },
  {
   "cell_type": "code",
   "execution_count": 5,
   "metadata": {
    "collapsed": false
   },
   "outputs": [
    {
     "name": "stdout",
     "output_type": "stream",
     "text": [
      "====iter 0====\n",
      "accept [ True]\n",
      "====iter 1000====\n",
      "accept [ True]\n",
      "====iter 2000====\n",
      "accept [ True]\n",
      "====iter 3000====\n",
      "accept [False]\n",
      "====iter 4000====\n",
      "accept [False]\n",
      "====iter 5000====\n",
      "accept [ True]\n",
      "====iter 6000====\n",
      "accept [False]\n",
      "====iter 7000====\n",
      "accept [False]\n",
      "====iter 8000====\n",
      "accept [ True]\n",
      "====iter 9000====\n",
      "accept [False]\n",
      "====iter 10000====\n",
      "accept [False]\n",
      "====iter 11000====\n",
      "accept [False]\n",
      "====iter 12000====\n",
      "accept [False]\n",
      "====iter 13000====\n",
      "accept [ True]\n",
      "====iter 14000====\n",
      "accept [False]\n",
      "====iter 15000====\n",
      "accept [ True]\n",
      "====iter 16000====\n",
      "accept [False]\n",
      "====iter 17000====\n",
      "accept [ True]\n",
      "====iter 18000====\n",
      "accept [False]\n",
      "====iter 19000====\n",
      "accept [False]\n",
      "====iter 20000====\n",
      "accept [False]\n",
      "====iter 21000====\n",
      "accept [ True]\n",
      "====iter 22000====\n",
      "accept [ True]\n",
      "====iter 23000====\n",
      "accept [False]\n",
      "====iter 24000====\n",
      "accept [False]\n",
      "====iter 25000====\n",
      "accept [False]\n",
      "====iter 26000====\n",
      "accept [False]\n",
      "====iter 27000====\n",
      "accept [ True]\n",
      "====iter 28000====\n",
      "accept [False]\n",
      "====iter 29000====\n",
      "accept [False]\n",
      "====iter 30000====\n",
      "accept [False]\n",
      "====iter 31000====\n",
      "accept [ True]\n",
      "====iter 32000====\n",
      "accept [False]\n",
      "====iter 33000====\n",
      "accept [False]\n",
      "====iter 34000====\n",
      "accept [ True]\n",
      "====iter 35000====\n",
      "accept [False]\n",
      "====iter 36000====\n",
      "accept [False]\n",
      "====iter 37000====\n",
      "accept [False]\n",
      "====iter 38000====\n",
      "accept [False]\n",
      "====iter 39000====\n",
      "accept [False]\n",
      "====iter 40000====\n",
      "accept [False]\n",
      "====iter 41000====\n",
      "accept [False]\n",
      "====iter 42000====\n",
      "accept [False]\n",
      "====iter 43000====\n",
      "accept [ True]\n",
      "====iter 44000====\n",
      "accept [False]\n",
      "====iter 45000====\n",
      "accept [False]\n",
      "====iter 46000====\n",
      "accept [ True]\n",
      "====iter 47000====\n",
      "accept [False]\n",
      "====iter 48000====\n",
      "accept [False]\n",
      "====iter 49000====\n",
      "accept [False]\n",
      "====iter 50000====\n",
      "accept [False]\n",
      "====iter 51000====\n",
      "accept [False]\n",
      "====iter 52000====\n",
      "accept [False]\n",
      "====iter 53000====\n",
      "accept [False]\n",
      "====iter 54000====\n",
      "accept [False]\n",
      "====iter 55000====\n",
      "accept [False]\n",
      "====iter 56000====\n",
      "accept [ True]\n",
      "====iter 57000====\n",
      "accept [ True]\n",
      "====iter 58000====\n",
      "accept [False]\n",
      "====iter 59000====\n",
      "accept [False]\n",
      "====iter 60000====\n",
      "accept [ True]\n",
      "====iter 61000====\n",
      "accept [False]\n",
      "====iter 62000====\n",
      "accept [ True]\n",
      "====iter 63000====\n",
      "accept [False]\n",
      "====iter 64000====\n",
      "accept [False]\n",
      "====iter 65000====\n",
      "accept [ True]\n",
      "====iter 66000====\n",
      "accept [ True]\n",
      "====iter 67000====\n",
      "accept [ True]\n",
      "====iter 68000====\n",
      "accept [False]\n",
      "====iter 69000====\n",
      "accept [False]\n",
      "====iter 70000====\n",
      "accept [False]\n",
      "====iter 71000====\n",
      "accept [False]\n",
      "====iter 72000====\n",
      "accept [ True]\n",
      "====iter 73000====\n",
      "accept [False]\n",
      "====iter 74000====\n",
      "accept [False]\n",
      "====iter 75000====\n",
      "accept [ True]\n",
      "====iter 76000====\n",
      "accept [ True]\n",
      "====iter 77000====\n",
      "accept [ True]\n",
      "====iter 78000====\n",
      "accept [False]\n",
      "====iter 79000====\n",
      "accept [False]\n",
      "====iter 80000====\n",
      "accept [ True]\n",
      "====iter 81000====\n",
      "accept [False]\n",
      "====iter 82000====\n",
      "accept [False]\n",
      "====iter 83000====\n",
      "accept [ True]\n",
      "====iter 84000====\n",
      "accept [ True]\n",
      "====iter 85000====\n",
      "accept [ True]\n",
      "====iter 86000====\n",
      "accept [False]\n",
      "====iter 87000====\n",
      "accept [False]\n",
      "====iter 88000====\n",
      "accept [ True]\n",
      "====iter 89000====\n",
      "accept [ True]\n",
      "====iter 90000====\n",
      "accept [ True]\n",
      "====iter 91000====\n",
      "accept [False]\n",
      "====iter 92000====\n",
      "accept [False]\n",
      "====iter 93000====\n",
      "accept [False]\n",
      "====iter 94000====\n",
      "accept [ True]\n",
      "====iter 95000====\n",
      "accept [ True]\n",
      "====iter 96000====\n",
      "accept [False]\n",
      "====iter 97000====\n",
      "accept [ True]\n",
      "====iter 98000====\n",
      "accept [ True]\n",
      "====iter 99000====\n",
      "accept [False]\n"
     ]
    }
   ],
   "source": [
    "dim = 100\n",
    "proposal = PCNWalkMove(s=3, scale=0.2)\n",
    "sampler = Sampler(dim=dim, t_dist=t_dist, proposal=proposal, nwalkers=nwalkers)\n",
    "hist = sampler.run_mcmc(niters, p0=np.random.randn(dim*nwalkers).reshape([nwalkers, dim]), verbose=True, print_every=1000)"
   ]
  },
  {
   "cell_type": "code",
   "execution_count": 6,
   "metadata": {
    "collapsed": false
   },
   "outputs": [
    {
     "name": "stdout",
     "output_type": "stream",
     "text": [
      "acceptance_rate 0.33161\n"
     ]
    }
   ],
   "source": [
    "print \"acceptance_rate\", hist.acceptance_rate"
   ]
  },
  {
   "cell_type": "markdown",
   "metadata": {},
   "source": [
    "Ensemble with pCN, beta=0.2"
   ]
  },
  {
   "cell_type": "code",
   "execution_count": 7,
   "metadata": {
    "collapsed": false
   },
   "outputs": [
    {
     "name": "stderr",
     "output_type": "stream",
     "text": [
      "../ensemble_sampler/proposal/walk.py:62: RuntimeWarning: covariance is not positive-semidefinite.\n",
      "  + beta * rand.multivariate_normal(np.zeros_like(walkers_to_move[i]), cov)\n"
     ]
    },
    {
     "name": "stdout",
     "output_type": "stream",
     "text": [
      "acceptance_rate 0.90878\n"
     ]
    }
   ],
   "source": [
    "dim = 50\n",
    "proposal = PCNWalkMove(s=3, beta=0.2)\n",
    "sampler = Sampler(dim=dim, t_dist=t_dist, proposal=proposal, nwalkers=nwalkers)\n",
    "hist = sampler.run_mcmc(niters, p0=np.random.randn(dim*nwalkers).reshape([nwalkers, dim]))\n",
    "print \"acceptance_rate\", hist.acceptance_rate"
   ]
  },
  {
   "cell_type": "code",
   "execution_count": null,
   "metadata": {
    "collapsed": true
   },
   "outputs": [],
   "source": [
    "dim = 100\n",
    "proposal = PCNWalkMove(s=3, beta=0.2)\n",
    "sampler = Sampler(dim=dim, t_dist=t_dist, proposal=proposal, nwalkers=nwalkers)\n",
    "hist = sampler.run_mcmc(niters, p0=np.random.randn(dim*nwalkers).reshape([nwalkers, dim]))"
   ]
  },
  {
   "cell_type": "code",
   "execution_count": null,
   "metadata": {
    "collapsed": true
   },
   "outputs": [],
   "source": [
    "print \"acceptance_rate\", hist.acceptance_rate"
   ]
  },
  {
   "cell_type": "markdown",
   "metadata": {},
   "source": [
    "PCN without ensemble, beta=0.2"
   ]
  },
  {
   "cell_type": "code",
   "execution_count": 8,
   "metadata": {
    "collapsed": false
   },
   "outputs": [
    {
     "name": "stdout",
     "output_type": "stream",
     "text": [
      "acceptance_rate 0.57335\n"
     ]
    }
   ],
   "source": [
    "dim = 50\n",
    "proposal = PCNWalkMove(s=None, beta=0.01)\n",
    "sampler = Sampler(dim=dim, t_dist=t_dist, proposal=proposal, nwalkers=nwalkers)\n",
    "hist = sampler.run_mcmc(niters, p0=np.random.randn(dim*nwalkers).reshape([nwalkers, dim]))\n",
    "print \"acceptance_rate\", hist.acceptance_rate"
   ]
  },
  {
   "cell_type": "code",
   "execution_count": null,
   "metadata": {
    "collapsed": true
   },
   "outputs": [],
   "source": [
    "dim = 100\n",
    "proposal = PCNWalkMove(s=None, beta=0.01)\n",
    "sampler = Sampler(dim=dim, t_dist=t_dist, proposal=proposal, nwalkers=nwalkers)\n",
    "hist = sampler.run_mcmc(niters, p0=np.random.randn(dim*nwalkers).reshape([nwalkers, dim]))"
   ]
  },
  {
   "cell_type": "code",
   "execution_count": null,
   "metadata": {
    "collapsed": true
   },
   "outputs": [],
   "source": [
    "print \"acceptance_rate\", hist.acceptance_rate"
   ]
  },
  {
   "cell_type": "code",
   "execution_count": 10,
   "metadata": {
    "collapsed": true
   },
   "outputs": [],
   "source": [
    "x = hist.get_flat(\"chain\")[np.random.choice(100000, 1)]"
   ]
  },
  {
   "cell_type": "code",
   "execution_count": 11,
   "metadata": {
    "collapsed": false
   },
   "outputs": [
    {
     "data": {
      "image/png": "[encoded data removed]",
      "text/plain": [
       "<matplotlib.figure.Figure at 0x10c9f1b50>"
      ]
     },
     "metadata": {},
     "output_type": "display_data"
    }
   ],
   "source": [
    "plot_traj(x)"
   ]
  },
  {
   "cell_type": "code",
   "execution_count": null,
   "metadata": {
    "collapsed": true
   },
   "outputs": [],
   "source": []
  }
 ],
 "metadata": {
  "kernelspec": {
   "display_name": "Python 2",
   "language": "python",
   "name": "python2"
  },
  "language_info": {
   "codemirror_mode": {
    "name": "ipython",
    "version": 2
   },
   "file_extension": ".py",
   "mimetype": "text/x-python",
   "name": "python",
   "nbconvert_exporter": "python",
   "pygments_lexer": "ipython2",
   "version": "2.7.12"
  }
 },
 "nbformat": 4,
 "nbformat_minor": 2
}
