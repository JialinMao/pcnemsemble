{
 "cells": [
  {
   "cell_type": "code",
   "execution_count": 1,
   "metadata": {
    "collapsed": false,
    "deletable": true,
    "editable": true
   },
   "outputs": [
    {
     "name": "stdout",
     "output_type": "stream",
     "text": [
      "Populating the interactive namespace from numpy and matplotlib\n"
     ]
    }
   ],
   "source": [
    "%pylab inline\n",
    "import sys; sys.path.insert(0, \"../\")\n",
    "import numpy as np\n",
    "import timeit\n",
    "from emcee.autocorr import *\n",
    "from ensemble_sampler import *"
   ]
  },
  {
   "cell_type": "markdown",
   "metadata": {
    "deletable": true,
    "editable": true
   },
   "source": [
    "### Example of sampling from an invariant distribution of SPDE  \n",
    "Ref. Goodman & Weare, Ensemble Samplers With Affine Invariance  \n",
    "A problem with this example is that it's harder to visualize, but from the experiments it does seem that pCN has more consistent performance in high dimensions (judging from acceptance probability)."
   ]
  },
  {
   "cell_type": "code",
   "execution_count": 2,
   "metadata": {
    "collapsed": true,
    "deletable": true,
    "editable": true
   },
   "outputs": [],
   "source": [
    "# Fixed for all experiments in this notebook\n",
    "nwalkers = 100\n",
    "batch_size = 50"
   ]
  },
  {
   "cell_type": "code",
   "execution_count": 3,
   "metadata": {
    "collapsed": true,
    "deletable": true,
    "editable": true
   },
   "outputs": [],
   "source": [
    "def plot_traj(x):\n",
    "    n, dim = x.shape\n",
    "    for i in range(n):\n",
    "        t = np.linspace(start=0.0, stop=1.0, num=dim)\n",
    "        plt.plot(t, x[i, :])"
   ]
  },
  {
   "cell_type": "code",
   "execution_count": 4,
   "metadata": {
    "collapsed": true,
    "deletable": true,
    "editable": true
   },
   "outputs": [],
   "source": [
    "def run(dim, proposal, batch_size=50, niters=1000, n=1, pre=0, verbose=False, print_every=1):\n",
    "    t_dist = SPDE(N=dim)\n",
    "    sampler = Sampler(dim=dim, t_dist=t_dist, proposal=proposal, nwalkers=nwalkers)\n",
    "\n",
    "    acc_r = 0.0\n",
    "    for i in range(n):\n",
    "        sampler.reset()\n",
    "        p0 = np.random.randn(dim*nwalkers).reshape([nwalkers, dim])\n",
    "        if pre > 0:\n",
    "            hist = sampler.run_mcmc(pre, batch_size=batch_size, p0=p0, verbose=False)\n",
    "            p0 = hist.curr_pos\n",
    "            sampler.reset()\n",
    "        start = timeit.default_timer()\n",
    "        hist = sampler.run_mcmc(niters, batch_size=batch_size, p0=p0, verbose=verbose, print_every=print_every)\n",
    "        print 'finishes loop %d in %.2f seconds' % (i, float(timeit.default_timer() - start))\n",
    "        acc_r += float(100*hist.acceptance_rate.mean())\n",
    "        print 'avg accept rate: %.2f%s' % (float(100*hist.acceptance_rate.mean()), '%')\n",
    "        try:\n",
    "            print 'mean auto-correlation time: %s' % sampler.auto_corr()\n",
    "        except AutocorrError, err:\n",
    "            print err\n",
    "    print 'avg_acc_r: %.2f%s' % (float(acc_r) / 5.0, '%')"
   ]
  },
  {
   "cell_type": "markdown",
   "metadata": {
    "deletable": true,
    "editable": true
   },
   "source": [
    "#### Not using ensemble, use isotropic gaussian proposal with scale=0.04"
   ]
  },
  {
   "cell_type": "code",
   "execution_count": 5,
   "metadata": {
    "collapsed": false,
    "deletable": true,
    "editable": true
   },
   "outputs": [
    {
     "name": "stdout",
     "output_type": "stream",
     "text": [
      "finishes loop 0 in 28.44 seconds\n",
      "avg accept rate: 31.06%\n",
      "The chain is too short to reliably estimate the autocorrelation time\n",
      "finishes loop 1 in 28.97 seconds\n",
      "avg accept rate: 30.98%\n",
      "The chain is too short to reliably estimate the autocorrelation time\n",
      "finishes loop 2 in 28.30 seconds\n",
      "avg accept rate: 31.10%\n",
      "The chain is too short to reliably estimate the autocorrelation time\n",
      "finishes loop 3 in 28.95 seconds\n",
      "avg accept rate: 29.76%\n",
      "The chain is too short to reliably estimate the autocorrelation time\n",
      "finishes loop 4 in 28.77 seconds\n",
      "avg accept rate: 29.64%\n",
      "The chain is too short to reliably estimate the autocorrelation time\n",
      "avg_acc_r: 30.51%\n"
     ]
    }
   ],
   "source": [
    "dim = 50\n",
    "proposal = PCNWalkMove(s=None, scale=0.04)\n",
    "\n",
    "run(dim, proposal, batch_size=batch_size, niters=50000, n=5)"
   ]
  },
  {
   "cell_type": "markdown",
   "metadata": {
    "deletable": true,
    "editable": true
   },
   "source": [
    "#### Use ensemble of size 3, scale=0.008.  \n",
    "Experimented with dim=50 & 100, see a decrease in acceptance rate with same scaling parameter."
   ]
  },
  {
   "cell_type": "code",
   "execution_count": 15,
   "metadata": {
    "collapsed": false,
    "deletable": true,
    "editable": true
   },
   "outputs": [
    {
     "name": "stdout",
     "output_type": "stream",
     "text": [
      "finishes loop 0 in 31.37 seconds\n",
      "avg accept rate: 53.29%\n",
      "mean auto-correlation time: 564.171299344\n",
      "finishes loop 1 in 33.02 seconds\n",
      "avg accept rate: 53.02%\n",
      "mean auto-correlation time: 437.66296795\n",
      "finishes loop 2 in 31.48 seconds\n",
      "avg accept rate: 53.66%\n",
      "mean auto-correlation time: 534.626637265\n",
      "finishes loop 3 in 29.19 seconds\n",
      "avg accept rate: 52.89%\n",
      "mean auto-correlation time: 76.6306596799\n",
      "finishes loop 4 in 33.09 seconds\n",
      "avg accept rate: 53.98%\n",
      "mean auto-correlation time: 305.558843689\n",
      "avg_acc_r: 53.37%\n"
     ]
    }
   ],
   "source": [
    "dim = 50\n",
    "proposal = PCNWalkMove(s=3, scale=0.008)\n",
    "\n",
    "run(dim, proposal, batch_size=batch_size, niters=50000, n=5)"
   ]
  },
  {
   "cell_type": "code",
   "execution_count": 16,
   "metadata": {
    "collapsed": false,
    "deletable": true,
    "editable": true
   },
   "outputs": [
    {
     "name": "stdout",
     "output_type": "stream",
     "text": [
      "finishes loop 0 in 40.39 seconds\n",
      "avg accept rate: 55.57%\n",
      "mean auto-correlation time: 574.424123777\n",
      "finishes loop 1 in 40.40 seconds\n",
      "avg accept rate: 54.64%\n",
      "mean auto-correlation time: 663.720794119\n",
      "finishes loop 2 in 36.10 seconds\n",
      "avg accept rate: 56.11%\n",
      "mean auto-correlation time: 539.627060716\n",
      "finishes loop 3 in 37.34 seconds\n",
      "avg accept rate: 55.67%\n",
      "mean auto-correlation time: 643.975897747\n",
      "finishes loop 4 in 42.27 seconds\n",
      "avg accept rate: 56.61%\n",
      "mean auto-correlation time: 527.188603762\n",
      "avg_acc_r: 55.72%\n"
     ]
    }
   ],
   "source": [
    "dim = 100\n",
    "proposal = PCNWalkMove(s=3, scale=0.008)\n",
    "\n",
    "run(dim, proposal, batch_size=batch_size, niters=50000, n=5)"
   ]
  },
  {
   "cell_type": "code",
   "execution_count": 17,
   "metadata": {
    "collapsed": false,
    "deletable": true,
    "editable": true
   },
   "outputs": [
    {
     "name": "stdout",
     "output_type": "stream",
     "text": [
      "finishes loop 0 in 62.94 seconds\n",
      "avg accept rate: 33.19%\n",
      "The chain is too short to reliably estimate the autocorrelation time\n",
      "finishes loop 1 in 57.27 seconds\n",
      "avg accept rate: 33.36%\n",
      "The chain is too short to reliably estimate the autocorrelation time\n",
      "finishes loop 2 in 55.49 seconds\n",
      "avg accept rate: 33.29%\n",
      "The chain is too short to reliably estimate the autocorrelation time\n",
      "finishes loop 3 in 55.75 seconds\n",
      "avg accept rate: 32.87%\n",
      "The chain is too short to reliably estimate the autocorrelation time\n",
      "finishes loop 4 in 53.13 seconds\n",
      "avg accept rate: 33.28%\n",
      "The chain is too short to reliably estimate the autocorrelation time\n",
      "avg_acc_r: 33.20%\n"
     ]
    }
   ],
   "source": [
    "dim = 200\n",
    "proposal = PCNWalkMove(s=3, scale=0.008)\n",
    "\n",
    "run(dim, proposal, batch_size=batch_size, niters=50000, n=5)"
   ]
  },
  {
   "cell_type": "markdown",
   "metadata": {
    "deletable": true,
    "editable": true
   },
   "source": [
    "#### Ensemble with pCN, beta=0.8  \n",
    "Experimented with dim=50 & 100, consistency in acceptance rate with same scaling parameter."
   ]
  },
  {
   "cell_type": "code",
   "execution_count": 9,
   "metadata": {
    "collapsed": false,
    "deletable": true,
    "editable": true
   },
   "outputs": [
    {
     "name": "stdout",
     "output_type": "stream",
     "text": [
      "finishes loop 0 in 31.67 seconds\n",
      "avg accept rate: 79.92%\n",
      "mean auto-correlation time: 4.07545758871\n",
      "finishes loop 1 in 31.28 seconds\n",
      "avg accept rate: 79.97%\n",
      "mean auto-correlation time: 8.332973422\n",
      "finishes loop 2 in 33.57 seconds\n",
      "avg accept rate: 79.97%\n",
      "mean auto-correlation time: 7.78954333734\n",
      "finishes loop 3 in 31.81 seconds\n",
      "avg accept rate: 79.99%\n",
      "mean auto-correlation time: 6.81990726261\n",
      "finishes loop 4 in 33.37 seconds\n",
      "avg accept rate: 79.97%\n",
      "mean auto-correlation time: 3.51835596709\n",
      "avg_acc_r: 79.96%\n"
     ]
    }
   ],
   "source": [
    "dim = 50\n",
    "proposal = PCNWalkMove(s=3, beta=0.8)\n",
    "\n",
    "run(dim, proposal, batch_size=batch_size, niters=50000, n=5)"
   ]
  },
  {
   "cell_type": "code",
   "execution_count": 10,
   "metadata": {
    "collapsed": false,
    "deletable": true,
    "editable": true
   },
   "outputs": [
    {
     "name": "stdout",
     "output_type": "stream",
     "text": [
      "finishes loop 0 in 40.24 seconds\n",
      "avg accept rate: 79.97%\n",
      "mean auto-correlation time: 8.13227731892\n",
      "finishes loop 1 in 43.37 seconds\n",
      "avg accept rate: 79.97%\n",
      "mean auto-correlation time: 4.77334864322\n",
      "finishes loop 2 in 39.50 seconds\n",
      "avg accept rate: 79.97%\n",
      "mean auto-correlation time: 3.62875493535\n",
      "finishes loop 3 in 40.62 seconds\n",
      "avg accept rate: 79.96%\n",
      "mean auto-correlation time: 12.8032870811\n",
      "finishes loop 4 in 38.20 seconds\n",
      "avg accept rate: 79.95%\n",
      "mean auto-correlation time: 5.25723287241\n",
      "avg_acc_r: 79.96%\n"
     ]
    }
   ],
   "source": [
    "dim = 100\n",
    "proposal = PCNWalkMove(s=3, beta=0.8)\n",
    "\n",
    "run(dim, proposal, batch_size=batch_size, niters=50000, n=5)"
   ]
  },
  {
   "cell_type": "code",
   "execution_count": 11,
   "metadata": {
    "collapsed": false,
    "deletable": true,
    "editable": true
   },
   "outputs": [
    {
     "name": "stdout",
     "output_type": "stream",
     "text": [
      "finishes loop 0 in 57.42 seconds\n",
      "avg accept rate: 79.94%\n",
      "mean auto-correlation time: 13.8362569007\n",
      "finishes loop 1 in 56.51 seconds\n",
      "avg accept rate: 79.91%\n",
      "mean auto-correlation time: 2.07240886433\n",
      "finishes loop 2 in 57.66 seconds\n",
      "avg accept rate: 79.90%\n",
      "mean auto-correlation time: 14.0755356523\n",
      "finishes loop 3 in 58.91 seconds\n",
      "avg accept rate: 79.91%\n",
      "mean auto-correlation time: 14.3212786627\n",
      "finishes loop 4 in 56.23 seconds\n",
      "avg accept rate: 79.94%\n",
      "mean auto-correlation time: 12.8382923609\n",
      "avg_acc_r: 79.92%\n"
     ]
    }
   ],
   "source": [
    "dim = 200\n",
    "proposal = PCNWalkMove(s=3, beta=0.8)\n",
    "\n",
    "run(dim, proposal, batch_size=batch_size, niters=50000, n=5)"
   ]
  },
  {
   "cell_type": "markdown",
   "metadata": {
    "deletable": true,
    "editable": true
   },
   "source": [
    "#### PCN without ensemble, beta=0.001  \n",
    "Need small beta to get good acceptance rate."
   ]
  },
  {
   "cell_type": "code",
   "execution_count": 18,
   "metadata": {
    "collapsed": false,
    "deletable": true,
    "editable": true
   },
   "outputs": [
    {
     "name": "stdout",
     "output_type": "stream",
     "text": [
      "finishes loop 0 in 30.34 seconds\n",
      "avg accept rate: 77.52%\n",
      "The chain is too short to reliably estimate the autocorrelation time\n",
      "finishes loop 1 in 29.33 seconds\n",
      "avg accept rate: 77.51%\n",
      "The chain is too short to reliably estimate the autocorrelation time\n",
      "finishes loop 2 in 29.09 seconds\n",
      "avg accept rate: 77.51%\n",
      "The chain is too short to reliably estimate the autocorrelation time\n",
      "finishes loop 3 in 30.59 seconds\n",
      "avg accept rate: 77.48%\n",
      "The chain is too short to reliably estimate the autocorrelation time\n",
      "finishes loop 4 in 28.96 seconds\n",
      "avg accept rate: 77.57%\n",
      "The chain is too short to reliably estimate the autocorrelation time\n",
      "avg_acc_r: 77.52%\n"
     ]
    }
   ],
   "source": [
    "dim = 50\n",
    "proposal = PCNWalkMove(s=None, beta=0.008)\n",
    "\n",
    "run(dim, proposal, batch_size=batch_size, niters=50000, n=5)"
   ]
  },
  {
   "cell_type": "code",
   "execution_count": 19,
   "metadata": {
    "collapsed": false,
    "deletable": true,
    "editable": true
   },
   "outputs": [
    {
     "name": "stdout",
     "output_type": "stream",
     "text": [
      "finishes loop 0 in 42.79 seconds\n",
      "avg accept rate: 57.34%\n",
      "The chain is too short to reliably estimate the autocorrelation time\n",
      "finishes loop 1 in 43.37 seconds\n",
      "avg accept rate: 57.34%\n",
      "The chain is too short to reliably estimate the autocorrelation time\n",
      "finishes loop 2 in 42.08 seconds\n",
      "avg accept rate: 57.37%\n",
      "The chain is too short to reliably estimate the autocorrelation time\n",
      "finishes loop 3 in 42.30 seconds\n",
      "avg accept rate: 57.39%\n",
      "The chain is too short to reliably estimate the autocorrelation time\n",
      "finishes loop 4 in 41.25 seconds\n",
      "avg accept rate: 57.37%\n",
      "The chain is too short to reliably estimate the autocorrelation time\n",
      "avg_acc_r: 57.36%\n"
     ]
    }
   ],
   "source": [
    "dim = 100\n",
    "proposal = PCNWalkMove(s=None, beta=0.008)\n",
    "\n",
    "run(dim, proposal, batch_size=batch_size, niters=50000, n=5)"
   ]
  },
  {
   "cell_type": "code",
   "execution_count": 20,
   "metadata": {
    "collapsed": false,
    "deletable": true,
    "editable": true
   },
   "outputs": [
    {
     "name": "stdout",
     "output_type": "stream",
     "text": [
      "finishes loop 0 in 70.79 seconds\n",
      "avg accept rate: 28.27%\n",
      "The chain is too short to reliably estimate the autocorrelation time\n",
      "finishes loop 1 in 70.75 seconds\n",
      "avg accept rate: 28.21%\n",
      "The chain is too short to reliably estimate the autocorrelation time\n",
      "finishes loop 2 in 69.77 seconds\n",
      "avg accept rate: 28.24%\n",
      "The chain is too short to reliably estimate the autocorrelation time\n",
      "finishes loop 3 in 73.16 seconds\n",
      "avg accept rate: 28.27%\n",
      "The chain is too short to reliably estimate the autocorrelation time\n",
      "finishes loop 4 in 75.61 seconds\n",
      "avg accept rate: 28.28%\n",
      "The chain is too short to reliably estimate the autocorrelation time\n",
      "avg_acc_r: 28.26%\n"
     ]
    }
   ],
   "source": [
    "dim = 200\n",
    "proposal = PCNWalkMove(s=None, beta=0.008)\n",
    "\n",
    "run(dim, proposal, batch_size=batch_size, niters=50000, n=5)"
   ]
  },
  {
   "cell_type": "code",
   "execution_count": null,
   "metadata": {
    "collapsed": true,
    "deletable": true,
    "editable": true
   },
   "outputs": [],
   "source": []
  }
 ],
 "metadata": {
  "kernelspec": {
   "display_name": "Python 2",
   "language": "python",
   "name": "python2"
  },
  "language_info": {
   "codemirror_mode": {
    "name": "ipython",
    "version": 2
   },
   "file_extension": ".py",
   "mimetype": "text/x-python",
   "name": "python",
   "nbconvert_exporter": "python",
   "pygments_lexer": "ipython2",
   "version": "2.7.12"
  }
 },
 "nbformat": 4,
 "nbformat_minor": 2
}
