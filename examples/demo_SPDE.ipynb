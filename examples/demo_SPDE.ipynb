{
 "cells": [
  {
   "cell_type": "code",
   "execution_count": 1,
   "metadata": {
    "collapsed": false,
    "deletable": true,
    "editable": true
   },
   "outputs": [
    {
     "name": "stdout",
     "output_type": "stream",
     "text": [
      "Populating the interactive namespace from numpy and matplotlib\n"
     ]
    }
   ],
   "source": [
    "%pylab inline\n",
    "import sys; sys.path.insert(0, \"../\")\n",
    "import numpy as np\n",
    "import timeit\n",
    "from ensemble_sampler import *"
   ]
  },
  {
   "cell_type": "markdown",
   "metadata": {
    "deletable": true,
    "editable": true
   },
   "source": [
    "### Example of sampling from an invariant distribution of SPDE  \n",
    "Ref. Goodman & Weare, Ensemble Samplers With Affine Invariance  \n",
    "A problem with this example is that it's harder to visualize, but from the experiments it does seem that pCN has more consistent performance in high dimensions (judging from acceptance probability)."
   ]
  },
  {
   "cell_type": "code",
   "execution_count": 2,
   "metadata": {
    "collapsed": true,
    "deletable": true,
    "editable": true
   },
   "outputs": [],
   "source": [
    "def plot_traj(x):\n",
    "    n, dim = x.shape\n",
    "    for i in range(n):\n",
    "        t = np.linspace(start=0.0, stop=1.0, num=dim)\n",
    "        plt.plot(t, x[i, :])"
   ]
  },
  {
   "cell_type": "code",
   "execution_count": 3,
   "metadata": {
    "collapsed": true,
    "deletable": true,
    "editable": true
   },
   "outputs": [],
   "source": [
    "dim = 50\n",
    "nwalkers = 100\n",
    "niters = 1000\n",
    "t_dist = SPDE(N=dim)"
   ]
  },
  {
   "cell_type": "markdown",
   "metadata": {
    "deletable": true,
    "editable": true
   },
   "source": [
    "#### Not using ensemble, use isotropic gaussian proposal with scale=0.2"
   ]
  },
  {
   "cell_type": "code",
   "execution_count": 5,
   "metadata": {
    "collapsed": false,
    "deletable": true,
    "editable": true
   },
   "outputs": [
    {
     "name": "stdout",
     "output_type": "stream",
     "text": [
      "finishes in about 0.95 seconds\n",
      "avg accept rate: 4.97%\n"
     ]
    }
   ],
   "source": [
    "dim = 50\n",
    "proposal = PCNWalkMove(s=None, scale=0.2)\n",
    "\n",
    "sampler = Sampler(dim=dim, t_dist=t_dist, proposal=proposal, nwalkers=nwalkers)\n",
    "start = timeit.default_timer()\n",
    "hist = sampler.run_mcmc(niters, batch_size=20, p0=np.random.randn(dim*nwalkers).reshape([nwalkers, dim]))\n",
    "print 'finishes in about %.2f seconds' % float(timeit.default_timer() - start)\n",
    "print 'avg accept rate: %.2f%s' % (float(100*hist.acceptance_rate.mean()), '%')"
   ]
  },
  {
   "cell_type": "markdown",
   "metadata": {
    "deletable": true,
    "editable": true
   },
   "source": [
    "#### Use ensemble of size 3, scale=0.2.  \n",
    "Experimented with dim=50 & 100, see a decrease in acceptance rate with same scaling parameter."
   ]
  },
  {
   "cell_type": "code",
   "execution_count": 6,
   "metadata": {
    "collapsed": false,
    "deletable": true,
    "editable": true
   },
   "outputs": [
    {
     "name": "stdout",
     "output_type": "stream",
     "text": [
      "finishes in about 1.14 seconds\n",
      "avg accept rate: 44.04%\n"
     ]
    }
   ],
   "source": [
    "dim = 50\n",
    "proposal = PCNWalkMove(s=3, scale=0.2)\n",
    "sampler = Sampler(dim=dim, t_dist=t_dist, proposal=proposal, nwalkers=nwalkers)\n",
    "start = timeit.default_timer()\n",
    "hist = sampler.run_mcmc(niters, batch_size=20, p0=np.random.randn(dim*nwalkers).reshape([nwalkers, dim]))\n",
    "print 'finishes in about %.2f seconds' % float(timeit.default_timer() - start)\n",
    "print 'avg accept rate: %.2f%s' % (float(100*hist.acceptance_rate.mean()), '%')"
   ]
  },
  {
   "cell_type": "code",
   "execution_count": 7,
   "metadata": {
    "collapsed": false,
    "deletable": true,
    "editable": true
   },
   "outputs": [
    {
     "name": "stdout",
     "output_type": "stream",
     "text": [
      "finishes in about 1.18 seconds\n",
      "avg accept rate: 23.61%\n"
     ]
    }
   ],
   "source": [
    "dim = 100\n",
    "proposal = PCNWalkMove(s=3, scale=0.2)\n",
    "sampler = Sampler(dim=dim, t_dist=t_dist, proposal=proposal, nwalkers=nwalkers)\n",
    "start = timeit.default_timer()\n",
    "hist = sampler.run_mcmc(niters, batch_size=20, p0=np.random.randn(dim*nwalkers).reshape([nwalkers, dim]))\n",
    "print 'finishes in about %.2f seconds' % float(timeit.default_timer() - start)\n",
    "print 'avg accept rate: %.2f%s' % (float(100*hist.acceptance_rate.mean()), '%')"
   ]
  },
  {
   "cell_type": "markdown",
   "metadata": {
    "deletable": true,
    "editable": true
   },
   "source": [
    "#### Ensemble with pCN, beta=0.2  \n",
    "Experimented with dim=50 & 100, consistency in acceptance rate with same scaling parameter."
   ]
  },
  {
   "cell_type": "code",
   "execution_count": 9,
   "metadata": {
    "collapsed": false,
    "deletable": true,
    "editable": true
   },
   "outputs": [
    {
     "name": "stdout",
     "output_type": "stream",
     "text": [
      "finishes in about 1.11 seconds\n",
      "avg accept rate: 74.84%\n"
     ]
    }
   ],
   "source": [
    "dim = 50\n",
    "proposal = PCNWalkMove(s=3, beta=0.2)\n",
    "sampler = Sampler(dim=dim, t_dist=t_dist, proposal=proposal, nwalkers=nwalkers)\n",
    "start = timeit.default_timer()\n",
    "hist = sampler.run_mcmc(niters, batch_size=20, p0=np.random.randn(dim*nwalkers).reshape([nwalkers, dim]))\n",
    "print 'finishes in about %.2f seconds' % float(timeit.default_timer() - start)\n",
    "print 'avg accept rate: %.2f%s' % (float(100*hist.acceptance_rate.mean()), '%')"
   ]
  },
  {
   "cell_type": "code",
   "execution_count": 10,
   "metadata": {
    "collapsed": false,
    "deletable": true,
    "editable": true
   },
   "outputs": [
    {
     "name": "stdout",
     "output_type": "stream",
     "text": [
      "finishes in about 1.34 seconds\n",
      "avg accept rate: 71.30%\n"
     ]
    }
   ],
   "source": [
    "dim = 100\n",
    "proposal = PCNWalkMove(s=3, beta=0.2)\n",
    "sampler = Sampler(dim=dim, t_dist=t_dist, proposal=proposal, nwalkers=nwalkers)\n",
    "start = timeit.default_timer()\n",
    "hist = sampler.run_mcmc(niters, batch_size=20, p0=np.random.randn(dim*nwalkers).reshape([nwalkers, dim]))\n",
    "print 'finishes in about %.2f seconds' % float(timeit.default_timer() - start)\n",
    "print 'avg accept rate: %.2f%s' % (float(100*hist.acceptance_rate.mean()), '%')"
   ]
  },
  {
   "cell_type": "markdown",
   "metadata": {
    "deletable": true,
    "editable": true
   },
   "source": [
    "#### PCN without ensemble, beta=0.2  \n",
    "Need small beta to get good acceptance rate."
   ]
  },
  {
   "cell_type": "code",
   "execution_count": 14,
   "metadata": {
    "collapsed": false,
    "deletable": true,
    "editable": true
   },
   "outputs": [
    {
     "name": "stdout",
     "output_type": "stream",
     "text": [
      "finishes in about 0.98 seconds\n",
      "avg accept rate: 56.90%\n"
     ]
    }
   ],
   "source": [
    "dim = 50\n",
    "proposal = PCNWalkMove(s=None, beta=0.01)\n",
    "sampler = Sampler(dim=dim, t_dist=t_dist, proposal=proposal, nwalkers=nwalkers)\n",
    "start = timeit.default_timer()\n",
    "hist = sampler.run_mcmc(niters, batch_size=20, p0=np.random.randn(dim*nwalkers).reshape([nwalkers, dim]))\n",
    "print 'finishes in about %.2f seconds' % float(timeit.default_timer() - start)\n",
    "print 'avg accept rate: %.2f%s' % (float(100*hist.acceptance_rate.mean()), '%')"
   ]
  },
  {
   "cell_type": "code",
   "execution_count": 17,
   "metadata": {
    "collapsed": false,
    "deletable": true,
    "editable": true
   },
   "outputs": [
    {
     "name": "stdout",
     "output_type": "stream",
     "text": [
      "finishes in about 1.19 seconds\n",
      "avg accept rate: 53.79%\n"
     ]
    }
   ],
   "source": [
    "dim = 100\n",
    "proposal = PCNWalkMove(s=None, beta=0.01)\n",
    "start = timeit.default_timer()\n",
    "sampler = Sampler(dim=dim, t_dist=t_dist, proposal=proposal, nwalkers=nwalkers)\n",
    "hist = sampler.run_mcmc(niters, batch_size=20, p0=np.random.randn(dim*nwalkers).reshape([nwalkers, dim]))\n",
    "print 'finishes in about %.2f seconds' % float(timeit.default_timer() - start)\n",
    "print 'avg accept rate: %.2f%s' % (float(100*hist.acceptance_rate.mean()), '%')"
   ]
  },
  {
   "cell_type": "code",
   "execution_count": 18,
   "metadata": {
    "collapsed": true,
    "deletable": true,
    "editable": true
   },
   "outputs": [],
   "source": [
    "x = hist.get_flat(\"chain\")[np.random.choice(100000, 1)]"
   ]
  },
  {
   "cell_type": "code",
   "execution_count": 19,
   "metadata": {
    "collapsed": false,
    "deletable": true,
    "editable": true
   },
   "outputs": [
    {
     "data": {
      "image/png": "[encoded data removed]",
      "text/plain": [
       "<matplotlib.figure.Figure at 0x10bbd5990>"
      ]
     },
     "metadata": {},
     "output_type": "display_data"
    }
   ],
   "source": [
    "plot_traj(x)"
   ]
  },
  {
   "cell_type": "code",
   "execution_count": null,
   "metadata": {
    "collapsed": true,
    "deletable": true,
    "editable": true
   },
   "outputs": [],
   "source": []
  }
 ],
 "metadata": {
  "kernelspec": {
   "display_name": "Python 2",
   "language": "python",
   "name": "python2"
  },
  "language_info": {
   "codemirror_mode": {
    "name": "ipython",
    "version": 2
   },
   "file_extension": ".py",
   "mimetype": "text/x-python",
   "name": "python",
   "nbconvert_exporter": "python",
   "pygments_lexer": "ipython2",
   "version": "2.7.12"
  }
 },
 "nbformat": 4,
 "nbformat_minor": 2
}
