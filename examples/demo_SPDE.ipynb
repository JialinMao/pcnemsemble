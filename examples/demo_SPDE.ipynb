{
 "cells": [
  {
   "cell_type": "code",
   "execution_count": 1,
   "metadata": {
    "collapsed": false,
    "deletable": true,
    "editable": true
   },
   "outputs": [
    {
     "name": "stdout",
     "output_type": "stream",
     "text": [
      "Populating the interactive namespace from numpy and matplotlib\n"
     ]
    }
   ],
   "source": [
    "%pylab inline\n",
    "import sys; sys.path.insert(0, \"../\")\n",
    "import numpy as np\n",
    "import timeit\n",
    "from emcee.autocorr import *\n",
    "from ensemble_sampler import *"
   ]
  },
  {
   "cell_type": "markdown",
   "metadata": {
    "deletable": true,
    "editable": true
   },
   "source": [
    "### Example of sampling from an invariant distribution of SPDE  \n",
    "Ref. Goodman & Weare, Ensemble Samplers With Affine Invariance  \n",
    "A problem with this example is that it's harder to visualize, but from the experiments it does seem that pCN has more consistent performance in high dimensions (judging from acceptance probability)."
   ]
  },
  {
   "cell_type": "code",
   "execution_count": 2,
   "metadata": {
    "collapsed": true,
    "deletable": true,
    "editable": true
   },
   "outputs": [],
   "source": [
    "# Fixed for all experiments in this notebook\n",
    "nwalkers = 100\n",
    "batch_size = 50"
   ]
  },
  {
   "cell_type": "code",
   "execution_count": 3,
   "metadata": {
    "collapsed": true,
    "deletable": true,
    "editable": true
   },
   "outputs": [],
   "source": [
    "def plot_traj(x):\n",
    "    n, dim = x.shape\n",
    "    for i in range(n):\n",
    "        t = np.linspace(start=0.0, stop=1.0, num=dim)\n",
    "        plt.plot(t, x[i, :])"
   ]
  },
  {
   "cell_type": "code",
   "execution_count": 4,
   "metadata": {
    "collapsed": true,
    "deletable": true,
    "editable": true
   },
   "outputs": [],
   "source": [
    "def run(dim, proposal, batch_size=50, niters=1000, n=5, pre=0):\n",
    "    t_dist = SPDE(N=dim)\n",
    "    sampler = Sampler(dim=dim, t_dist=t_dist, proposal=proposal, nwalkers=nwalkers)\n",
    "\n",
    "    acc_r = 0.0\n",
    "    for i in range(n):\n",
    "        sampler.reset()\n",
    "        p0 = np.random.randn(dim*nwalkers).reshape([nwalkers, dim])\n",
    "        if pre > 0:\n",
    "            hist = sampler.run_mcmc(pre, batch_size=batch_size, p0=p0, verbose=False)\n",
    "            p0 = hist.curr_pos\n",
    "            sampler.reset()\n",
    "        start = timeit.default_timer()\n",
    "        hist = sampler.run_mcmc(niters, batch_size=batch_size, p0=p0, verbose=False)\n",
    "        print 'finishes loop %d in %.2f seconds' % (i, float(timeit.default_timer() - start))\n",
    "        acc_r += float(100*hist.acceptance_rate.mean())\n",
    "        # print 'avg accept rate: %.2f%s' % (float(100*hist.acceptance_rate.mean()), '%')\n",
    "        try:\n",
    "            print 'mean auto-correlation time: %s' % hist.auto_corr().mean()\n",
    "        except AutocorrError, err:\n",
    "            pass\n",
    "    print 'avg_acc_r: %.2f%s' % (float(acc_r) / 5.0, '%')"
   ]
  },
  {
   "cell_type": "markdown",
   "metadata": {
    "deletable": true,
    "editable": true
   },
   "source": [
    "#### Not using ensemble, use isotropic gaussian proposal with scale=0.001"
   ]
  },
  {
   "cell_type": "code",
   "execution_count": 5,
   "metadata": {
    "collapsed": false,
    "deletable": true,
    "editable": true
   },
   "outputs": [
    {
     "name": "stdout",
     "output_type": "stream",
     "text": [
      "finishes loop 0 in 5.80 seconds\n",
      "finishes loop 1 in 5.82 seconds\n",
      "finishes loop 2 in 5.54 seconds\n",
      "finishes loop 3 in 5.28 seconds\n",
      "finishes loop 4 in 5.29 seconds\n",
      "avg_acc_r: 81.83%\n"
     ]
    }
   ],
   "source": [
    "dim = 50\n",
    "proposal = PCNWalkMove(s=None, scale=0.001)\n",
    "\n",
    "run(dim, proposal, batch_size=batch_size, niters=10000, n=5)"
   ]
  },
  {
   "cell_type": "markdown",
   "metadata": {
    "deletable": true,
    "editable": true
   },
   "source": [
    "#### Use ensemble of size 3, scale=0.005.  \n",
    "Experimented with dim=50 & 100, see a decrease in acceptance rate with same scaling parameter."
   ]
  },
  {
   "cell_type": "code",
   "execution_count": 6,
   "metadata": {
    "collapsed": false,
    "deletable": true,
    "editable": true
   },
   "outputs": [
    {
     "name": "stdout",
     "output_type": "stream",
     "text": [
      "finishes loop 0 in 6.38 seconds\n",
      "finishes loop 1 in 5.69 seconds\n",
      "finishes loop 2 in 5.66 seconds\n",
      "finishes loop 3 in 5.66 seconds\n",
      "finishes loop 4 in 5.71 seconds\n",
      "avg_acc_r: 83.05%\n"
     ]
    }
   ],
   "source": [
    "dim = 50\n",
    "proposal = PCNWalkMove(s=3, scale=0.005)\n",
    "\n",
    "run(dim, proposal, batch_size=batch_size, niters=10000, n=5)"
   ]
  },
  {
   "cell_type": "code",
   "execution_count": 7,
   "metadata": {
    "collapsed": false,
    "deletable": true,
    "editable": true
   },
   "outputs": [
    {
     "name": "stdout",
     "output_type": "stream",
     "text": [
      "finishes loop 0 in 6.95 seconds\n",
      "finishes loop 1 in 7.47 seconds\n",
      "finishes loop 2 in 7.01 seconds\n",
      "finishes loop 3 in 7.47 seconds\n",
      "finishes loop 4 in 7.06 seconds\n",
      "avg_acc_r: 69.90%\n"
     ]
    }
   ],
   "source": [
    "dim = 100\n",
    "proposal = PCNWalkMove(s=3, scale=0.005)\n",
    "\n",
    "run(dim, proposal, batch_size=batch_size, niters=10000, n=5)"
   ]
  },
  {
   "cell_type": "code",
   "execution_count": 8,
   "metadata": {
    "collapsed": false,
    "deletable": true,
    "editable": true
   },
   "outputs": [
    {
     "name": "stdout",
     "output_type": "stream",
     "text": [
      "finishes loop 0 in 9.95 seconds\n",
      "finishes loop 1 in 9.99 seconds\n",
      "finishes loop 2 in 9.94 seconds\n",
      "finishes loop 3 in 10.03 seconds\n",
      "finishes loop 4 in 10.00 seconds\n",
      "avg_acc_r: 48.51%\n"
     ]
    }
   ],
   "source": [
    "dim = 200\n",
    "proposal = PCNWalkMove(s=3, scale=0.005)\n",
    "\n",
    "run(dim, proposal, batch_size=batch_size, niters=10000, n=5)"
   ]
  },
  {
   "cell_type": "markdown",
   "metadata": {
    "deletable": true,
    "editable": true
   },
   "source": [
    "#### Ensemble with pCN, beta=0.2  \n",
    "Experimented with dim=50 & 100, consistency in acceptance rate with same scaling parameter."
   ]
  },
  {
   "cell_type": "code",
   "execution_count": 9,
   "metadata": {
    "collapsed": false,
    "deletable": true,
    "editable": true
   },
   "outputs": [
    {
     "name": "stdout",
     "output_type": "stream",
     "text": [
      "finishes loop 0 in 5.96 seconds\n",
      "finishes loop 1 in 5.84 seconds\n",
      "finishes loop 2 in 5.76 seconds\n",
      "finishes loop 3 in 5.77 seconds\n",
      "finishes loop 4 in 5.80 seconds\n",
      "avg_acc_r: 85.88%\n"
     ]
    }
   ],
   "source": [
    "dim = 50\n",
    "proposal = PCNWalkMove(s=3, beta=0.2)\n",
    "\n",
    "run(dim, proposal, batch_size=batch_size, niters=10000, n=5)"
   ]
  },
  {
   "cell_type": "code",
   "execution_count": 10,
   "metadata": {
    "collapsed": false,
    "deletable": true,
    "editable": true
   },
   "outputs": [
    {
     "name": "stdout",
     "output_type": "stream",
     "text": [
      "finishes loop 0 in 7.15 seconds\n",
      "finishes loop 1 in 7.09 seconds\n",
      "finishes loop 2 in 7.13 seconds\n",
      "finishes loop 3 in 7.14 seconds\n",
      "finishes loop 4 in 7.11 seconds\n",
      "avg_acc_r: 85.34%\n"
     ]
    }
   ],
   "source": [
    "dim = 100\n",
    "proposal = PCNWalkMove(s=3, beta=0.2)\n",
    "\n",
    "run(dim, proposal, batch_size=batch_size, niters=10000, n=5)"
   ]
  },
  {
   "cell_type": "code",
   "execution_count": 11,
   "metadata": {
    "collapsed": false,
    "deletable": true,
    "editable": true
   },
   "outputs": [
    {
     "name": "stdout",
     "output_type": "stream",
     "text": [
      "finishes loop 0 in 10.20 seconds\n",
      "finishes loop 1 in 10.17 seconds\n",
      "finishes loop 2 in 10.20 seconds\n",
      "finishes loop 3 in 10.20 seconds\n",
      "finishes loop 4 in 10.24 seconds\n",
      "avg_acc_r: 84.87%\n"
     ]
    }
   ],
   "source": [
    "dim = 200\n",
    "proposal = PCNWalkMove(s=3, beta=0.2)\n",
    "\n",
    "run(dim, proposal, batch_size=batch_size, niters=10000, n=5)"
   ]
  },
  {
   "cell_type": "markdown",
   "metadata": {
    "deletable": true,
    "editable": true
   },
   "source": [
    "#### PCN without ensemble, beta=0.001  \n",
    "Need small beta to get good acceptance rate."
   ]
  },
  {
   "cell_type": "code",
   "execution_count": null,
   "metadata": {
    "collapsed": false,
    "deletable": true,
    "editable": true
   },
   "outputs": [
    {
     "name": "stdout",
     "output_type": "stream",
     "text": [
      "finishes loop 0 in 17.62 seconds\n",
      "finishes loop 1 in 18.39 seconds\n"
     ]
    }
   ],
   "source": [
    "dim = 50\n",
    "proposal = PCNWalkMove(s=None, beta=0.001)\n",
    "\n",
    "run(dim, proposal, batch_size=batch_size, niters=30000, n=5)"
   ]
  },
  {
   "cell_type": "code",
   "execution_count": null,
   "metadata": {
    "collapsed": false,
    "deletable": true,
    "editable": true
   },
   "outputs": [],
   "source": [
    "dim = 100\n",
    "proposal = PCNWalkMove(s=None, beta=0.001)\n",
    "\n",
    "run(dim, proposal, batch_size=batch_size, niters=30000, n=5)"
   ]
  },
  {
   "cell_type": "code",
   "execution_count": null,
   "metadata": {
    "collapsed": false,
    "deletable": true,
    "editable": true
   },
   "outputs": [],
   "source": [
    "dim = 200\n",
    "proposal = PCNWalkMove(s=None, beta=0.001)\n",
    "\n",
    "run(dim, proposal, batch_size=batch_size, niters=30000, n=5)"
   ]
  },
  {
   "cell_type": "code",
   "execution_count": null,
   "metadata": {
    "collapsed": true
   },
   "outputs": [],
   "source": []
  }
 ],
 "metadata": {
  "kernelspec": {
   "display_name": "Python 2",
   "language": "python",
   "name": "python2"
  },
  "language_info": {
   "codemirror_mode": {
    "name": "ipython",
    "version": 2
   },
   "file_extension": ".py",
   "mimetype": "text/x-python",
   "name": "python",
   "nbconvert_exporter": "python",
   "pygments_lexer": "ipython2",
   "version": "2.7.12"
  }
 },
 "nbformat": 4,
 "nbformat_minor": 2
}
