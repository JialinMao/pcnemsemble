{
 "cells": [
  {
   "cell_type": "code",
   "execution_count": 1,
   "metadata": {
    "collapsed": false
   },
   "outputs": [
    {
     "name": "stdout",
     "output_type": "stream",
     "text": [
      "Populating the interactive namespace from numpy and matplotlib\n"
     ]
    }
   ],
   "source": [
    "%load_ext autoreload\n",
    "%autoreload 2\n",
    "%pylab inline"
   ]
  },
  {
   "cell_type": "code",
   "execution_count": 2,
   "metadata": {
    "collapsed": false
   },
   "outputs": [],
   "source": [
    "import h5py\n",
    "import numpy as np\n",
    "import emcee as em"
   ]
  },
  {
   "cell_type": "code",
   "execution_count": 3,
   "metadata": {
    "collapsed": false
   },
   "outputs": [],
   "source": [
    "nwalkers = 20\n",
    "dim = 5\n",
    "beta = 0.809523809524\n",
    "mode = 'pcn'\n",
    "dist = 'exponential'\n",
    "\n",
    "fname = './results/data/nwalkers_%s_dim_%s_beta_%s_mode_%s_dist_%s.hdf5' % (nwalkers, dim, beta, mode, dist)\n",
    "f = h5py.File(fname, 'r+')\n",
    "dset = f['chain']"
   ]
  },
  {
   "cell_type": "code",
   "execution_count": 5,
   "metadata": {
    "collapsed": false
   },
   "outputs": [
    {
     "data": {
      "text/plain": [
       "<matplotlib.text.Text at 0x7f8f5baab490>"
      ]
     },
     "execution_count": 5,
     "metadata": {},
     "output_type": "execute_result"
    },
    {
     "data": {
      "image/png": "[encoded data removed]",
      "text/plain": [
       "<matplotlib.figure.Figure at 0x7f8f5dba4090>"
      ]
     },
     "metadata": {},
     "output_type": "display_data"
    }
   ],
   "source": [
    "dim_1 = dset[:, :, 0].ravel()\n",
    "hist=plt.hist(dim_1, bins=100, normed=True)\n",
    "x = np.linspace(0, 10, 200)\n",
    "y = np.exp(-x)\n",
    "plt.plot(x, y)\n",
    "plt.title(mode)"
   ]
  },
  {
   "cell_type": "code",
   "execution_count": 15,
   "metadata": {
    "collapsed": true
   },
   "outputs": [],
   "source": [
    "nwalkers = 20\n",
    "dim = 5\n",
    "beta = 0.6\n",
    "mode = 'ensemble'\n",
    "dist = 'exponential'\n",
    "\n",
    "fname = './results/data/nwalkers_%s_dim_%s_beta_%s_mode_%s_dist_%s.hdf5' % (nwalkers, dim, beta, mode, dist)\n",
    "f = h5py.File(fname, 'r+')\n",
    "dset = f['chain']"
   ]
  },
  {
   "cell_type": "code",
   "execution_count": 6,
   "metadata": {
    "collapsed": false
   },
   "outputs": [
    {
     "data": {
      "text/plain": [
       "<matplotlib.text.Text at 0x7f8fdff48c50>"
      ]
     },
     "execution_count": 6,
     "metadata": {},
     "output_type": "execute_result"
    },
    {
     "data": {
      "image/png": "[encoded data removed]",
      "text/plain": [
       "<matplotlib.figure.Figure at 0x7f8fdff6cb10>"
      ]
     },
     "metadata": {},
     "output_type": "display_data"
    }
   ],
   "source": [
    "dim_1 = dset[:, :, 0].ravel()\n",
    "hist=plt.hist(dim_1, bins=100, normed=True)\n",
    "x = np.linspace(0, 10, 200)\n",
    "y = np.exp(-x)\n",
    "plt.plot(x, y)\n",
    "plt.title(mode)"
   ]
  },
  {
   "cell_type": "code",
   "execution_count": 6,
   "metadata": {
    "collapsed": true
   },
   "outputs": [],
   "source": [
    "nwalkers = 20\n",
    "dim = 5\n",
    "beta = 0.809523809524\n",
    "mode = 'gaussian'\n",
    "dist = 'exponential'\n",
    "\n",
    "fname = './results/data/nwalkers_%s_dim_%s_beta_%s_mode_%s_dist_%s.hdf5' % (nwalkers, dim, beta, mode, dist)\n",
    "f = h5py.File(fname, 'r+')\n",
    "dset = f['chain']"
   ]
  },
  {
   "cell_type": "code",
   "execution_count": 7,
   "metadata": {
    "collapsed": false
   },
   "outputs": [
    {
     "data": {
      "text/plain": [
       "<matplotlib.text.Text at 0x7f8f5b9313d0>"
      ]
     },
     "execution_count": 7,
     "metadata": {},
     "output_type": "execute_result"
    },
    {
     "data": {
      "image/png": "[encoded data removed]",
      "text/plain": [
       "<matplotlib.figure.Figure at 0x7f8f5afd8290>"
      ]
     },
     "metadata": {},
     "output_type": "display_data"
    }
   ],
   "source": [
    "dim_1 = dset[:, :, 0].ravel()\n",
    "hist=plt.hist(dim_1, bins=100, normed=True)\n",
    "x = np.linspace(0, 10, 200)\n",
    "y = np.exp(-x)\n",
    "plt.plot(x, y)\n",
    "plt.title(mode)"
   ]
  },
  {
   "cell_type": "code",
   "execution_count": 30,
   "metadata": {
    "collapsed": true
   },
   "outputs": [],
   "source": [
    "import emcee"
   ]
  },
  {
   "cell_type": "code",
   "execution_count": 3,
   "metadata": {
    "collapsed": true
   },
   "outputs": [],
   "source": [
    "import sys; sys.path.insert(0, '../')\n",
    "import ensemble_sampler as es\n",
    "from emcee.autocorr import *"
   ]
  },
  {
   "cell_type": "code",
   "execution_count": null,
   "metadata": {
    "collapsed": true
   },
   "outputs": [],
   "source": [
    "dim = 2\n",
    "t_dist = es.Exponential(dim)\n",
    "proposal = es.Stretch(a=2.0)\n",
    "nwalkers = 10\n",
    "niters = 100000\n",
    "\n",
    "p0 = np.abs(np.random.rand(nwalkers, dim))\n",
    "rstate0 = np.random.get_state()\n",
    "\n",
    "n = 10\n",
    "\n",
    "act_info = np.zeros([2, 2, n])\n",
    "accept_info = np.zeros([2, 1, n])\n",
    "\n",
    "for i in range(n):\n",
    "    act_info[0, :, i], accept_info[0, :, i], _ = emcee_run(nwalkers, dim, t_dist.get_lnprob, niters, p0, rstate0)\n",
    "    act_info[1, :, i], accept_info[1, :, i], _ = es_run(nwalkers, t_dist, proposal, niters, p0, rstate0)"
   ]
  },
  {
   "cell_type": "code",
   "execution_count": 139,
   "metadata": {
    "collapsed": true
   },
   "outputs": [],
   "source": [
    "def emcee_run(nwalkers, dim, lnprobfn, niters, p0, rstate0=None):\n",
    "    sampler = em.EnsembleSampler(nwalkers, dim, lnprobfn)\n",
    "    h = sampler.run_mcmc(p0, niters, rstate0=rstate0)\n",
    "    try:\n",
    "        auto_corr = sampler.acor\n",
    "    except AutocorrError:\n",
    "        auto_corr = np.zeros(dim)\n",
    "    return [[auto_corr.mean(), np.sqrt(auto_corr.var())],\n",
    "            sampler.acceptance_fraction.mean(),\n",
    "            sampler]\n",
    "\n",
    "def es_run(nwalkers, t_dist, proposal, niters, p0, rstate0=None):\n",
    "    sampler = es.Sampler(t_dist=t_dist, proposal=proposal, nwalkers=nwalkers)\n",
    "    sampler.run_mcmc(niters, p0=p0, rstate0=rstate0)\n",
    "    try:\n",
    "        auto_corr = sampler.auto_corr()\n",
    "    except AutocorrError:\n",
    "        auto_corr = np.zeros(dim)\n",
    "    return [[auto_corr.mean(), np.sqrt(auto_corr.var())],\n",
    "            sampler.acceptance_rate.mean(),\n",
    "            sampler]"
   ]
  },
  {
   "cell_type": "code",
   "execution_count": 175,
   "metadata": {
    "collapsed": false
   },
   "outputs": [],
   "source": [
    "# _, _, sampler = emcee_run(nwalkers, dim, t_dist.get_lnprob, niters, p0, rstate0)\n",
    "# _, _, sampler = es_run(nwalkers, t_dist, proposal, niters, p0, rstate0)\n",
    "niters = int(1e6)\n",
    "# proposal = es.Stretch(a=2.0)\n",
    "proposal = es.PCNWalk(beta=0.6)\n",
    "_, _, sampler = es_run(nwalkers, t_dist, proposal, niters, p0, rstate0)"
   ]
  },
  {
   "cell_type": "code",
   "execution_count": 176,
   "metadata": {
    "collapsed": false
   },
   "outputs": [],
   "source": [
    "history = sampler.chain\n",
    "x = np.expand_dims(history[:, :, 0], 1)\n",
    "y = np.expand_dims(history[:, :, 1], 1)"
   ]
  },
  {
   "cell_type": "code",
   "execution_count": 177,
   "metadata": {
    "collapsed": false
   },
   "outputs": [],
   "source": [
    "moments = np.concatenate([x, y,\n",
    "                        (x**2), (x*y), (y**2),\n",
    "                        (x**3), (x**2*y), (x*y**2), (y**3),\n",
    "                        (x**4), (x**3*y), (x**2*y**2), (x*y**3), (y**4)], axis=1)\n",
    "gt = np.array([1, 1, 2, 1, 2, 6, 2, 2, 6, 24, 6, 4, 6, 24])"
   ]
  },
  {
   "cell_type": "code",
   "execution_count": 178,
   "metadata": {
    "collapsed": false
   },
   "outputs": [
    {
     "name": "stdout",
     "output_type": "stream",
     "text": [
      "moment diff:  0.378960411869\n",
      "act:  [ 146.14585938  134.74245171]\n"
     ]
    }
   ],
   "source": [
    "print 'moment diff: ', np.abs(avg_moments - gt).sum()\n",
    "print 'act: ', sampler.auto_corr()"
   ]
  },
  {
   "cell_type": "code",
   "execution_count": 179,
   "metadata": {
    "collapsed": false
   },
   "outputs": [
    {
     "name": "stdout",
     "output_type": "stream",
     "text": [
      "moments after sweep 1: \n",
      "(x, y):  [ 1.00344241  0.99152989]\n",
      "(xx, xy, yy):  [ 2.01541116  0.99573123  1.94584278]\n",
      "(xxx, xxy, xyy, yyy):  [ 6.0798909   1.9959802   1.95284885  5.6371371 ]\n",
      "(xxxx, xxxy, xxyy, xyyy, yyyy):  [ 24.38066317   5.97171825   3.8940008    5.6373384   21.29268301]\n"
     ]
    }
   ],
   "source": [
    "avg_moments = moments.mean(2).mean(0)\n",
    "print '(x, y): ', avg_moments[:2] \n",
    "print '(xx, xy, yy): ', avg_moments[2:5] \n",
    "print '(xxx, xxy, xyy, yyy): ', avg_moments[5:9] \n",
    "print '(xxxx, xxxy, xxyy, xyyy, yyyy): ', avg_moments[9:] "
   ]
  },
  {
   "cell_type": "code",
   "execution_count": null,
   "metadata": {
    "collapsed": true
   },
   "outputs": [],
   "source": []
  }
 ],
 "metadata": {
  "kernelspec": {
   "display_name": "Python 2",
   "language": "python",
   "name": "python2"
  },
  "language_info": {
   "codemirror_mode": {
    "name": "ipython",
    "version": 2
   },
   "file_extension": ".py",
   "mimetype": "text/x-python",
   "name": "python",
   "nbconvert_exporter": "python",
   "pygments_lexer": "ipython2",
   "version": "2.7.6"
  },
  "widgets": {
   "state": {},
   "version": "1.1.2"
  }
 },
 "nbformat": 4,
 "nbformat_minor": 0
}
