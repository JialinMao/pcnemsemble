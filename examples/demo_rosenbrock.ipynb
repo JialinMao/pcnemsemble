{
 "cells": [
  {
   "cell_type": "code",
   "execution_count": 1,
   "metadata": {
    "collapsed": false,
    "deletable": true,
    "editable": true
   },
   "outputs": [
    {
     "name": "stdout",
     "output_type": "stream",
     "text": [
      "Populating the interactive namespace from numpy and matplotlib\n"
     ]
    }
   ],
   "source": [
    "%pylab inline\n",
    "import sys; sys.path.insert(0, \"../\")\n",
    "import numpy as np\n",
    "import timeit\n",
    "from emcee.autocorr import *\n",
    "from ensemble_sampler import *"
   ]
  },
  {
   "cell_type": "markdown",
   "metadata": {
    "deletable": true,
    "editable": true
   },
   "source": [
    "### Example of sampling from Rosenbrock density  \n",
    "$f(x_1, x_2) \\propto \\exp(-[a(x_2 - x_1^2)^2 + (1-x_1)^2]\\ / \\ b)$  "
   ]
  },
  {
   "cell_type": "code",
   "execution_count": 2,
   "metadata": {
    "collapsed": true,
    "deletable": true,
    "editable": true
   },
   "outputs": [],
   "source": [
    "nwalkers = 250\n",
    "batch_size = 50\n",
    "niters = 100000"
   ]
  },
  {
   "cell_type": "code",
   "execution_count": 3,
   "metadata": {
    "collapsed": true,
    "deletable": true,
    "editable": true
   },
   "outputs": [],
   "source": [
    "def run(proposal, batch_size=50, niters=1000, n=5, pre=0, title='', plot=False):\n",
    "    sampler = Sampler(dim=2, t_dist=Rosenbrock(), proposal=proposal, nwalkers=nwalkers)\n",
    "\n",
    "    acc_r = 0.0\n",
    "    for i in range(n):\n",
    "        sampler.reset()\n",
    "        p0 = np.random.randn(2*nwalkers).reshape([nwalkers, 2])\n",
    "        if pre > 0:\n",
    "            s = Sampler(dim=2, t_dist=Rosenbrock(), proposal=PCNWalkMove(s=None, scale=0.2), nwalkers=nwalkers)\n",
    "            p0 = s.run_mcmc(pre, batch_size=batch_size, p0=p0).curr_pos\n",
    "        start = timeit.default_timer()\n",
    "        hist = sampler.run_mcmc(niters-pre, batch_size=batch_size, p0=p0)\n",
    "        print 'finishes loop %d in %.2f seconds' % (i, float(timeit.default_timer() - start))\n",
    "        acc_r += float(100*hist.acceptance_rate.mean())\n",
    "        print 'avg accept rate: %.2f%s' % (float(100*hist.acceptance_rate.mean()), '%')\n",
    "        try:\n",
    "            print 'auto-correlation time: %s' % sampler.auto_corr()\n",
    "        except AutocorrError, err:\n",
    "            print err\n",
    "    if plot:\n",
    "        hist.plot_scatter(dim=[[0, 1]])\n",
    "        sns.plt.title(title)\n",
    "    print 'avg_acc_r: %.2f%s' % (float(acc_r) / 5.0, '%')"
   ]
  },
  {
   "cell_type": "markdown",
   "metadata": {
    "deletable": true,
    "editable": true
   },
   "source": [
    "##### Not using ensemble, use isotropic gaussian proposal with scale=0.2"
   ]
  },
  {
   "cell_type": "code",
   "execution_count": 4,
   "metadata": {
    "collapsed": false,
    "deletable": true,
    "editable": true
   },
   "outputs": [
    {
     "name": "stdout",
     "output_type": "stream",
     "text": [
      "finishes loop 0 in 53.77 seconds\n",
      "avg accept rate: 47.70%\n",
      "The chain is too short to reliably estimate the autocorrelation time\n",
      "finishes loop 1 in 51.40 seconds\n",
      "avg accept rate: 46.33%\n",
      "The chain is too short to reliably estimate the autocorrelation time\n",
      "finishes loop 2 in 55.28 seconds\n",
      "avg accept rate: 46.42%\n",
      "The chain is too short to reliably estimate the autocorrelation time\n",
      "finishes loop 3 in 52.44 seconds\n",
      "avg accept rate: 46.70%\n",
      "The chain is too short to reliably estimate the autocorrelation time\n",
      "finishes loop 4 in 51.72 seconds\n",
      "avg accept rate: 46.84%\n",
      "The chain is too short to reliably estimate the autocorrelation time\n",
      "avg_acc_r: 46.80%\n"
     ]
    }
   ],
   "source": [
    "proposal = PCNWalkMove(s=None, scale=0.2)\n",
    "run(proposal, batch_size=batch_size, niters=niters, title='Non-ensemble')"
   ]
  },
  {
   "cell_type": "markdown",
   "metadata": {
    "deletable": true,
    "editable": true
   },
   "source": [
    "#### Use ensemble of size 3, scale=0.2."
   ]
  },
  {
   "cell_type": "code",
   "execution_count": 5,
   "metadata": {
    "collapsed": false,
    "deletable": true,
    "editable": true
   },
   "outputs": [
    {
     "name": "stdout",
     "output_type": "stream",
     "text": [
      "finishes loop 0 in 94.41 seconds\n",
      "avg accept rate: 20.59%\n",
      "The chain is too short to reliably estimate the autocorrelation time\n",
      "finishes loop 1 in 95.04 seconds\n",
      "avg accept rate: 19.85%\n",
      "The chain is too short to reliably estimate the autocorrelation time\n",
      "finishes loop 2 in 96.03 seconds\n",
      "avg accept rate: 19.37%\n",
      "The chain is too short to reliably estimate the autocorrelation time\n",
      "finishes loop 3 in 96.76 seconds\n",
      "avg accept rate: 20.05%\n",
      "The chain is too short to reliably estimate the autocorrelation time\n",
      "finishes loop 4 in 104.04 seconds\n",
      "avg accept rate: 19.98%\n",
      "The chain is too short to reliably estimate the autocorrelation time\n",
      "avg_acc_r: 19.97%\n"
     ]
    }
   ],
   "source": [
    "proposal = PCNWalkMove(s=3, scale=0.2)\n",
    "run(proposal, batch_size=batch_size, niters=niters, title='Ensemble of size 3', pre=1000)"
   ]
  },
  {
   "cell_type": "markdown",
   "metadata": {
    "deletable": true,
    "editable": true
   },
   "source": [
    "#### Ensemble with pCN, beta=0.4   \n",
    "This could come from the theory behind pCN sampling, i.e. it preserves the underlying Gaussian measure."
   ]
  },
  {
   "cell_type": "code",
   "execution_count": 6,
   "metadata": {
    "collapsed": false,
    "deletable": true,
    "editable": true
   },
   "outputs": [
    {
     "name": "stdout",
     "output_type": "stream",
     "text": [
      "finishes loop 0 in 102.94 seconds\n",
      "avg accept rate: 87.81%\n",
      "auto-correlation time: [ 51.33542751  29.45147128]\n",
      "finishes loop 1 in 104.28 seconds\n",
      "avg accept rate: 87.80%\n",
      "auto-correlation time: [ 62.02899983  29.29339531]\n",
      "finishes loop 2 in 100.57 seconds\n",
      "avg accept rate: 87.82%\n",
      "auto-correlation time: [ 50.39003079  25.32409016]\n",
      "finishes loop 3 in 102.91 seconds\n",
      "avg accept rate: 87.80%\n",
      "auto-correlation time: [ 53.96154952  32.47967119]\n",
      "finishes loop 4 in 105.64 seconds\n",
      "avg accept rate: 87.82%\n",
      "auto-correlation time: [ 60.38555997  26.10291383]\n",
      "avg_acc_r: 87.81%\n"
     ]
    }
   ],
   "source": [
    "proposal = PCNWalkMove(s=3, beta=0.4, symmetric=True)\n",
    "run(proposal, batch_size=batch_size, niters=niters, title='Ensemble with pCN')"
   ]
  },
  {
   "cell_type": "markdown",
   "metadata": {
    "deletable": true,
    "editable": true
   },
   "source": [
    "#### Ensemble with pCN, start from the end position of isotropic gaussian proposal"
   ]
  },
  {
   "cell_type": "code",
   "execution_count": 10,
   "metadata": {
    "collapsed": false,
    "deletable": true,
    "editable": true
   },
   "outputs": [
    {
     "name": "stdout",
     "output_type": "stream",
     "text": [
      "finishes loop 0 in 104.27 seconds\n",
      "avg accept rate: 83.51%\n",
      "auto-correlation time: [  30.89257599  108.22763182]\n",
      "finishes loop 1 in 102.26 seconds\n",
      "avg accept rate: 83.52%\n",
      "auto-correlation time: [  55.77165899  178.11962717]\n",
      "finishes loop 2 in 115.85 seconds\n",
      "avg accept rate: 83.47%\n",
      "auto-correlation time: [  96.88611296  268.06988467]\n",
      "finishes loop 3 in 102.26 seconds\n",
      "avg accept rate: 83.49%\n",
      "auto-correlation time: [ 104.40586397  356.10501769]\n",
      "finishes loop 4 in 101.17 seconds\n",
      "avg accept rate: 83.57%\n",
      "auto-correlation time: [ 12.18775412  31.23693306]\n",
      "avg_acc_r: 83.51%\n"
     ]
    }
   ],
   "source": [
    "proposal=PCNWalkMove(s=3, beta=0.9)\n",
    "run(proposal, batch_size=batch_size, niters=niters, pre=1000, title='pCN with ensemble, random walk for first 1000 steps')"
   ]
  },
  {
   "cell_type": "markdown",
   "metadata": {
    "collapsed": true,
    "deletable": true,
    "editable": true
   },
   "source": [
    "#### pCN without ensemble, beta=0.4  \n",
    "Check affine invariance of pCN. Notice this does not totally make sense."
   ]
  },
  {
   "cell_type": "code",
   "execution_count": 8,
   "metadata": {
    "collapsed": false,
    "deletable": true,
    "editable": true
   },
   "outputs": [
    {
     "name": "stdout",
     "output_type": "stream",
     "text": [
      "finishes loop 0 in 61.64 seconds\n",
      "avg accept rate: 54.06%\n",
      "auto-correlation time: [ 25.09599218  30.06170035]\n",
      "finishes loop 1 in 54.55 seconds\n",
      "avg accept rate: 54.04%\n",
      "auto-correlation time: [ 29.06900346  28.7523777 ]\n",
      "finishes loop 2 in 55.61 seconds\n",
      "avg accept rate: 54.04%\n",
      "auto-correlation time: [ 27.24763367  29.68079734]\n",
      "finishes loop 3 in 51.64 seconds\n",
      "avg accept rate: 54.05%\n",
      "auto-correlation time: [ 28.38435496  31.60712574]\n",
      "finishes loop 4 in 49.17 seconds\n",
      "avg accept rate: 54.03%\n",
      "auto-correlation time: [ 27.92874017  31.3003573 ]\n",
      "avg_acc_r: 54.05%\n"
     ]
    }
   ],
   "source": [
    "proposal = PCNWalkMove(s=None, beta=0.4)\n",
    "run(proposal, batch_size=batch_size, niters=niters, title='pCN without ensemble', pre=1000)"
   ]
  },
  {
   "cell_type": "code",
   "execution_count": null,
   "metadata": {
    "collapsed": true,
    "deletable": true,
    "editable": true
   },
   "outputs": [],
   "source": []
  }
 ],
 "metadata": {
  "kernelspec": {
   "display_name": "Python 2",
   "language": "python",
   "name": "python2"
  },
  "language_info": {
   "codemirror_mode": {
    "name": "ipython",
    "version": 2
   },
   "file_extension": ".py",
   "mimetype": "text/x-python",
   "name": "python",
   "nbconvert_exporter": "python",
   "pygments_lexer": "ipython2",
   "version": "2.7.12"
  }
 },
 "nbformat": 4,
 "nbformat_minor": 2
}
