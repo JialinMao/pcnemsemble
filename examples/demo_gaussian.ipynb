{
 "cells": [
  {
   "cell_type": "code",
   "execution_count": 1,
   "metadata": {
    "collapsed": false,
    "deletable": true,
    "editable": true
   },
   "outputs": [
    {
     "name": "stdout",
     "output_type": "stream",
     "text": [
      "Populating the interactive namespace from numpy and matplotlib\n"
     ]
    }
   ],
   "source": [
    "%pylab inline\n",
    "import sys; sys.path.insert(0, \"../\")\n",
    "import numpy as np\n",
    "import time\n",
    "\n",
    "import pandas\n",
    "import seaborn as sns\n",
    "\n",
    "from emcee.autocorr import *\n",
    "from ensemble_sampler import *"
   ]
  },
  {
   "cell_type": "markdown",
   "metadata": {
    "deletable": true,
    "editable": true
   },
   "source": [
    "### Example of sampling from a multivariate gaussian"
   ]
  },
  {
   "cell_type": "code",
   "execution_count": 2,
   "metadata": {
    "collapsed": false,
    "deletable": true,
    "editable": true
   },
   "outputs": [],
   "source": [
    "dim = 2\n",
    "nwalkers = 4\n",
    "niters = 100000"
   ]
  },
  {
   "cell_type": "code",
   "execution_count": 3,
   "metadata": {
    "collapsed": false,
    "deletable": true,
    "editable": true
   },
   "outputs": [],
   "source": [
    "mu = np.random.randn(dim)\n",
    "\n",
    "cov = 0.5 - np.random.rand(dim ** 2).reshape((dim, dim))\n",
    "cov = np.triu(cov)\n",
    "cov += cov.T - np.diag(cov.diagonal())\n",
    "cov = np.dot(cov,cov)\n",
    "\n",
    "t_dist = MultivariateGaussian(cov=cov, mu=mu, dim=dim)\n"
   ]
  },
  {
   "cell_type": "code",
   "execution_count": 4,
   "metadata": {
    "collapsed": false,
    "deletable": true,
    "editable": true
   },
   "outputs": [
    {
     "data": {
      "text/plain": [
       "<matplotlib.text.Text at 0x110799990>"
      ]
     },
     "execution_count": 4,
     "metadata": {},
     "output_type": "execute_result"
    },
    {
     "data": {
      "image/png": "[encoded data removed]",
      "text/plain": [
       "<matplotlib.figure.Figure at 0x1106178d0>"
      ]
     },
     "metadata": {},
     "output_type": "display_data"
    }
   ],
   "source": [
    "data = np.empty([10000, 2])\n",
    "for i in range(10000):\n",
    "    data[i] = np.random.multivariate_normal(mean=mu, cov=cov)\n",
    "df = pandas.DataFrame(data, columns=['x', 'y'])\n",
    "sns.jointplot(x='x', y='y', data=df, kind='kde')\n",
    "sns.plt.title('True distribution')"
   ]
  },
  {
   "cell_type": "markdown",
   "metadata": {
    "deletable": true,
    "editable": true
   },
   "source": [
    "##### Only ensemble, proposal scale=0.5. "
   ]
  },
  {
   "cell_type": "code",
   "execution_count": 5,
   "metadata": {
    "collapsed": true,
    "deletable": true,
    "editable": true
   },
   "outputs": [],
   "source": [
    "save_dir = './data/'\n",
    "title = 'ensemble_only'"
   ]
  },
  {
   "cell_type": "code",
   "execution_count": 6,
   "metadata": {
    "collapsed": false,
    "deletable": true,
    "editable": true
   },
   "outputs": [
    {
     "name": "stdout",
     "output_type": "stream",
     "text": [
      "====iter 0====\n",
      "Acceptance probability: [  2.37200337e-06]\n",
      "Accepted: [False]\n",
      "====iter 5000====\n",
      "Acceptance probability: [ 0.00302152]\n",
      "Accepted: [False]\n",
      "====iter 10000====\n",
      "Acceptance probability: [ 0.90934099]\n",
      "Accepted: [ True]\n",
      "====iter 15000====\n",
      "Acceptance probability: [ 0.62719509]\n",
      "Accepted: [False]\n",
      "====iter 20000====\n",
      "Acceptance probability: [ 1.20671042]\n",
      "Accepted: [ True]\n",
      "====iter 25000====\n",
      "Acceptance probability: [ 1.29616575]\n",
      "Accepted: [ True]\n",
      "====iter 30000====\n",
      "Acceptance probability: [ 0.24822381]\n",
      "Accepted: [False]\n",
      "====iter 35000====\n",
      "Acceptance probability: [ 1.07436941]\n",
      "Accepted: [ True]\n",
      "====iter 40000====\n",
      "Acceptance probability: [ 0.44839762]\n",
      "Accepted: [False]\n",
      "====iter 45000====\n",
      "Acceptance probability: [ 0.90222176]\n",
      "Accepted: [ True]\n",
      "====iter 50000====\n",
      "Acceptance probability: [ 1.55689356]\n",
      "Accepted: [ True]\n",
      "====iter 55000====\n",
      "Acceptance probability: [ 0.46138263]\n",
      "Accepted: [ True]\n",
      "====iter 60000====\n",
      "Acceptance probability: [ 0.28347185]\n",
      "Accepted: [ True]\n",
      "====iter 65000====\n",
      "Acceptance probability: [ 0.73703775]\n",
      "Accepted: [ True]\n",
      "====iter 70000====\n",
      "Acceptance probability: [ 0.52670003]\n",
      "Accepted: [False]\n",
      "====iter 75000====\n",
      "Acceptance probability: [ 0.58142482]\n",
      "Accepted: [False]\n",
      "====iter 80000====\n",
      "Acceptance probability: [ 1.85844707]\n",
      "Accepted: [ True]\n",
      "====iter 85000====\n",
      "Acceptance probability: [ 0.82701712]\n",
      "Accepted: [ True]\n",
      "====iter 90000====\n",
      "Acceptance probability: [ 0.67377345]\n",
      "Accepted: [False]\n",
      "====iter 95000====\n",
      "Acceptance probability: [ 0.41376436]\n",
      "Accepted: [False]\n"
     ]
    }
   ],
   "source": [
    "proposal = PCNWalkMove(s=3, scale=0.5)\n",
    "sampler = Sampler(dim=dim, t_dist=t_dist, proposal=proposal, nwalkers=nwalkers)\n",
    "\n",
    "start = time.time()\n",
    "sampler.run_mcmc(niters, batch_size=1, p0=np.random.randn(dim*nwalkers).reshape([nwalkers, dim]), \n",
    "                verbose=True, print_every=5000, store=True, save_dir=save_dir, title=title)\n",
    "hist = sampler.history\n",
    "end = time.time()"
   ]
  },
  {
   "cell_type": "code",
   "execution_count": 7,
   "metadata": {
    "collapsed": false,
    "deletable": true,
    "editable": true
   },
   "outputs": [
    {
     "name": "stdout",
     "output_type": "stream",
     "text": [
      "finishes in about 43.49 seconds\n",
      "auto-correlation time: [ 30.53910674  30.7113341 ]\n"
     ]
    }
   ],
   "source": [
    "print 'finishes in about %.2f seconds' % float(end - start)\n",
    "try:\n",
    "    print 'auto-correlation time: %s' % sampler.auto_corr()\n",
    "except AutocorrError, err:\n",
    "    print err"
   ]
  },
  {
   "cell_type": "code",
   "execution_count": 8,
   "metadata": {
    "collapsed": false,
    "deletable": true,
    "editable": true
   },
   "outputs": [
    {
     "name": "stdout",
     "output_type": "stream",
     "text": [
      "[ 0.70972  0.71049  0.70748  0.71051]\n"
     ]
    }
   ],
   "source": [
    "print sampler.acceptance / niters"
   ]
  },
  {
   "cell_type": "code",
   "execution_count": 9,
   "metadata": {
    "collapsed": false,
    "deletable": true,
    "editable": true
   },
   "outputs": [
    {
     "data": {
      "text/plain": [
       "<seaborn.axisgrid.JointGrid at 0x10cc53f50>"
      ]
     },
     "execution_count": 9,
     "metadata": {},
     "output_type": "execute_result"
    },
    {
     "data": {
      "image/png": "[encoded data removed]",
      "text/plain": [
       "<matplotlib.figure.Figure at 0x10ca84110>"
      ]
     },
     "metadata": {},
     "output_type": "display_data"
    }
   ],
   "source": [
    "chain = hist.get_flat('chain')\n",
    "x, y = ['dim_1', 'dim_2']\n",
    "df = DataFrame(np.vstack([chain[::100, 0], chain[::100, 1]]).T, columns=[x, y])\n",
    "sns.jointplot(x=x, y=y, data=df, kind='kde')"
   ]
  },
  {
   "cell_type": "code",
   "execution_count": 11,
   "metadata": {
    "collapsed": false
   },
   "outputs": [
    {
     "data": {
      "text/plain": [
       "array([[  1.26919935e-03,   4.27464025e-04],\n",
       "       [  4.27464025e-04,  -2.07266551e-05]])"
      ]
     },
     "execution_count": 11,
     "metadata": {},
     "output_type": "execute_result"
    }
   ],
   "source": [
    "np.cov(chain.T) - cov"
   ]
  },
  {
   "cell_type": "markdown",
   "metadata": {
    "deletable": true,
    "editable": true
   },
   "source": [
    "##### pCN, proposal beta=0.4. "
   ]
  },
  {
   "cell_type": "code",
   "execution_count": null,
   "metadata": {
    "collapsed": false,
    "deletable": true,
    "editable": true
   },
   "outputs": [],
   "source": [
    "nwalkers = 100\n",
    "niter = 100000\n",
    "\n",
    "# p0 = sampler.history.curr_pos\n",
    "proposal = PCNWalkMove(s=3, beta=0.4)\n",
    "sampler = Sampler(dim=dim, t_dist=t_dist, proposal=proposal, nwalkers=nwalkers)\n",
    "\n",
    "p0 = np.random.randn(dim*nwalkers).reshape([nwalkers, dim])\n",
    "# p0 = np.random.multivariate_normal(mean=mu, cov=cov, size=nwalkers)\n",
    "\n",
    "start = time.time()\n",
    "sampler.run_mcmc(niter, batch_size=50, p0=p0,\n",
    "                 store=True, verbose=False, print_every=5000)\n",
    "hist = sampler.history\n",
    "end = time.time()\n",
    "print 'finishes in about %.2f seconds' % float(end - start)\n",
    "try:\n",
    "    print 'auto-correlation time: %s' % sampler.auto_corr()\n",
    "except AutocorrError, err:\n",
    "    print err"
   ]
  },
  {
   "cell_type": "code",
   "execution_count": null,
   "metadata": {
    "collapsed": false,
    "deletable": true,
    "editable": true
   },
   "outputs": [],
   "source": [
    "chain = hist.get_flat('chain')\n",
    "x, y = ['dim_1', 'dim_2']\n",
    "df = DataFrame(np.vstack([chain[::100, 0], chain[::100, 1]]).T, columns=[x, y])\n",
    "sns.jointplot(x=x, y=y, data=df, kind='kde')"
   ]
  },
  {
   "cell_type": "markdown",
   "metadata": {
    "deletable": true,
    "editable": true
   },
   "source": [
    "#### \"Pure pCN\""
   ]
  },
  {
   "cell_type": "code",
   "execution_count": 7,
   "metadata": {
    "collapsed": false,
    "deletable": true,
    "editable": true
   },
   "outputs": [
    {
     "name": "stdout",
     "output_type": "stream",
     "text": [
      "====iter 0====\n",
      "Acceptance probability: [  5.37201200e+12]\n",
      "Accepted: [ True]\n",
      "====iter 5000====\n",
      "Acceptance probability: [  1.03502996e-09]\n",
      "Accepted: [False]\n",
      "====iter 10000====\n",
      "Acceptance probability: [ 0.00630287]\n",
      "Accepted: [False]\n",
      "====iter 15000====\n",
      "Acceptance probability: [ 0.68777318]\n",
      "Accepted: [False]\n",
      "====iter 20000====\n",
      "Acceptance probability: [  3.43511133e-10]\n",
      "Accepted: [False]\n",
      "====iter 25000====\n",
      "Acceptance probability: [ 9.48189871]\n",
      "Accepted: [ True]\n",
      "====iter 30000====\n",
      "Acceptance probability: [ 1.10657412]\n",
      "Accepted: [ True]\n",
      "====iter 35000====\n",
      "Acceptance probability: [ 1.61510236]\n",
      "Accepted: [ True]\n",
      "====iter 40000====\n",
      "Acceptance probability: [ 0.00176739]\n",
      "Accepted: [False]\n",
      "====iter 45000====\n",
      "Acceptance probability: [  7.12792934e-07]\n",
      "Accepted: [False]\n",
      "====iter 50000====\n",
      "Acceptance probability: [ 0.36276534]\n",
      "Accepted: [False]\n",
      "====iter 55000====\n",
      "Acceptance probability: [ 0.01566687]\n",
      "Accepted: [False]\n",
      "====iter 60000====\n",
      "Acceptance probability: [ 0.68230805]\n",
      "Accepted: [ True]\n",
      "====iter 65000====\n",
      "Acceptance probability: [ 0.53437702]\n",
      "Accepted: [ True]\n",
      "====iter 70000====\n",
      "Acceptance probability: [ 0.22969753]\n",
      "Accepted: [ True]\n",
      "====iter 75000====\n",
      "Acceptance probability: [ 3.12412009]\n",
      "Accepted: [ True]\n",
      "====iter 80000====\n",
      "Acceptance probability: [ 0.56687307]\n",
      "Accepted: [ True]\n",
      "====iter 85000====\n",
      "Acceptance probability: [ 0.00569377]\n",
      "Accepted: [False]\n",
      "====iter 90000====\n",
      "Acceptance probability: [ 0.77270269]\n",
      "Accepted: [ True]\n",
      "====iter 95000====\n",
      "Acceptance probability: [ 0.54474375]\n",
      "Accepted: [False]\n",
      "finishes in about 21.15 seconds\n",
      "auto-correlation time: [ 10.71167747  13.89993103]\n"
     ]
    }
   ],
   "source": [
    "dim = 2\n",
    "nwalkers = 4\n",
    "niters = 100000\n",
    "\n",
    "proposal = PCNWalkMove(s=None, beta=0.3)\n",
    "sampler = Sampler(dim=dim, t_dist=t_dist, proposal=proposal, nwalkers=nwalkers)\n",
    "\"\"\"# first run 100 steps and use the location as p0\n",
    "sampler.run_mcmc(100, batch_size=1, p0=np.random.randn(dim*nwalkers).reshape([nwalkers, dim]))\n",
    "p0 = sampler.history.curr_pos\n",
    "\n",
    "sampler.init()\n",
    "sampler.proposal.s = 3\n",
    "sampler.proposal.beta = 0.05\"\"\"\n",
    "\n",
    "start = time.time()\n",
    "sampler.run_mcmc(niters, batch_size=1, p0=np.random.randn(dim*nwalkers).reshape([nwalkers, dim]),\n",
    "                 store=True, verbose=True, print_every=5000)\n",
    "hist = sampler.history\n",
    "end = time.time()\n",
    "print 'finishes in about %.2f seconds' % float(end - start)\n",
    "try:\n",
    "    print 'auto-correlation time: %s' % sampler.auto_corr()\n",
    "except AutocorrError, err:\n",
    "    print err"
   ]
  },
  {
   "cell_type": "code",
   "execution_count": 8,
   "metadata": {
    "collapsed": false,
    "deletable": true,
    "editable": true
   },
   "outputs": [
    {
     "data": {
      "text/plain": [
       "<seaborn.axisgrid.JointGrid at 0x104b0b750>"
      ]
     },
     "execution_count": 8,
     "metadata": {},
     "output_type": "execute_result"
    },
    {
     "data": {
      "image/png": "[encoded data removed]",
      "text/plain": [
       "<matplotlib.figure.Figure at 0x10ca5c2d0>"
      ]
     },
     "metadata": {},
     "output_type": "display_data"
    }
   ],
   "source": [
    "chain = hist.get_flat('chain')\n",
    "x, y = ['dim_1', 'dim_2']\n",
    "df = DataFrame(np.vstack([chain[::100, 0], chain[::100, 1]]).T, columns=[x, y])\n",
    "sns.jointplot(x=x, y=y, data=df, kind='kde')"
   ]
  },
  {
   "cell_type": "code",
   "execution_count": 22,
   "metadata": {
    "collapsed": false,
    "deletable": true,
    "editable": true
   },
   "outputs": [
    {
     "data": {
      "text/plain": [
       "array([[ 0.00641237, -0.02396559],\n",
       "       [-0.02396559, -0.01272465]])"
      ]
     },
     "execution_count": 22,
     "metadata": {},
     "output_type": "execute_result"
    }
   ],
   "source": [
    "(np.cov(chain.T) - cov) / cov"
   ]
  },
  {
   "cell_type": "code",
   "execution_count": 21,
   "metadata": {
    "collapsed": false
   },
   "outputs": [
    {
     "data": {
      "text/plain": [
       "array([[ 0.03620762,  0.03586347],\n",
       "       [ 0.03586347,  0.09442239]])"
      ]
     },
     "execution_count": 21,
     "metadata": {},
     "output_type": "execute_result"
    }
   ],
   "source": []
  },
  {
   "cell_type": "code",
   "execution_count": null,
   "metadata": {
    "collapsed": true
   },
   "outputs": [],
   "source": []
  }
 ],
 "metadata": {
  "kernelspec": {
   "display_name": "Python 2",
   "language": "python",
   "name": "python2"
  },
  "language_info": {
   "codemirror_mode": {
    "name": "ipython",
    "version": 2
   },
   "file_extension": ".py",
   "mimetype": "text/x-python",
   "name": "python",
   "nbconvert_exporter": "python",
   "pygments_lexer": "ipython2",
   "version": "2.7.12"
  }
 },
 "nbformat": 4,
 "nbformat_minor": 2
}
